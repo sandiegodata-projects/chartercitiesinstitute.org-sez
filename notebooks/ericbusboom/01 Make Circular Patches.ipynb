{
 "cells": [
  {
   "cell_type": "markdown",
   "id": "e3aa10e9-6b50-456b-8339-2d0aa75f7d33",
   "metadata": {},
   "source": [
    "# Circular Night Time Lights Patches\n",
    "\n",
    "Create an HDF5 file with 10Km circular patchs of the nightime lights raster for \n",
    "each SEZ. \n",
    "\n",
    "This will create a patches file and publish it to the web, at: \n",
    "\n",
    "http://public.source.civicknowledge.com.s3.amazonaws.com/sez/sez_circ_patches.h5\n",
    "\n",
    "\n",
    "You can get these data packages via the ['sez' tag at the SDRDL Data Repository](https://data.sandiegodata.org/?s=sez)"
   ]
  },
  {
   "cell_type": "code",
   "execution_count": 1,
   "id": "b485c088-6b61-4e0e-9c93-a8b71421204c",
   "metadata": {},
   "outputs": [],
   "source": [
    "import seaborn as sns\n",
    "import metapack as mp\n",
    "import pandas as pd\n",
    "import numpy as np\n",
    "import matplotlib.pyplot as plt\n",
    "import rowgenerators as rg\n",
    "import fiona\n",
    "import rasterio\n",
    "import rasterio.mask\n",
    "from IPython.display import display \n",
    "from rasterio.plot import reshape_as_raster, reshape_as_image, show\n",
    "from tqdm.notebook import tqdm\n",
    "from joblib import Parallel, delayed\n",
    "import requests   # to make GET request\n",
    "import boto3\n",
    "import h5py \n",
    "\n",
    "%matplotlib inline\n",
    "sns.set_context('notebook')\n"
   ]
  },
  {
   "cell_type": "code",
   "execution_count": 2,
   "id": "e22ad853-6648-42ea-8a49-4a4098dc2f0e",
   "metadata": {},
   "outputs": [
    {
     "data": {
      "text/html": [
       "<h1>Special economic zones</h1>\n",
       "<p><code>worldbank.org-sez-1.1.1</code> Last Update: 2021-07-12T20:47:42</p>\n",
       "<p><em>Information on special economic zones have been individually collected and researched in a study focusing on the governance of SEZ. This is just a subset (586) of the extant global SEZs, which have been estimated at 3500-4000.</em></p>\n",
       "<h2>Documentation Links</h2>\n",
       "<ul>\n",
       "<li><a href=\"http://library.metatab.org/worldbank.org-sez-1.1.1/index.html\">Documentation Page</a> </li>\n",
       "<li><a href=\"https://datacatalog.worldbank.org/dataset/special-economic-zones-sez\">Dataset webpage</a> </li>\n",
       "<li><a href=\"http://devseed.com/sez-viewer/#/BGD6\">Dataset viewer web application</a> </li>\n",
       "</ul>\n",
       "<h2>Contacts</h2>\n",
       "<ul>\n",
       "<li><strong>Wrangler</strong> <a href=\"mailto:eric@civicknowledge.com\">Eric Busboom</a>, <a href=\"http://civicknowledge.com\">Civic Knowledge</a></li>\n",
       "</ul>\n",
       "<h2>Resources</h2>\n",
       "<ul>\n",
       "<li><strong> <a href=\"http://library.metatab.org/worldbank.org-sez-1.1.1/data/sez.csv\">sez</a></strong>. Special Economic Zones</li>\n",
       "</ul>"
      ],
      "text/plain": [
       "# Special economic zones\n",
       "`worldbank.org-sez-1.1.1` Last Update: 2021-07-12T20:47:42\n",
       "\n",
       "_Information on special economic zones have been individually collected and researched in a study focusing on the governance of SEZ. This is just a subset (586) of the extant global SEZs, which have been estimated at 3500-4000._\n",
       "\n",
       "\n",
       "## Documentation Links\n",
       "\n",
       "* [Documentation Page](http://library.metatab.org/worldbank.org-sez-1.1.1/index.html) \n",
       "* [Dataset webpage](https://datacatalog.worldbank.org/dataset/special-economic-zones-sez) \n",
       "* [Dataset viewer web application](http://devseed.com/sez-viewer/#/BGD6) \n",
       "\n",
       " \n",
       "\n",
       "## Contacts\n",
       "\n",
       "* **Wrangler** [Eric Busboom](mailto:eric@civicknowledge.com), [Civic Knowledge](http://civicknowledge.com)\n",
       "\n",
       "## Resources\n",
       "\n",
       "* ** [sez](http://library.metatab.org/worldbank.org-sez-1.1.1/data/sez.csv)**. Special Economic Zones\n"
      ]
     },
     "execution_count": 2,
     "metadata": {},
     "output_type": "execute_result"
    }
   ],
   "source": [
    "# Open the two main data packages\n",
    "sez_p = mp.open_package('http://library.metatab.org/worldbank.org-sez-1.1.1.csv')\n",
    "ntl_p = mp.open_package('http://library.metatab.org/figshare.com-harmonized_ntl-1.1.1.csv')\n",
    "\n",
    "# Displaying the package shows metadata\n",
    "sez_p\n"
   ]
  },
  {
   "cell_type": "code",
   "execution_count": 3,
   "id": "a33a85a2-3836-4569-ba57-57e98a7df728",
   "metadata": {},
   "outputs": [
    {
     "data": {
      "text/html": [
       "<h1>Multiyear Nightime Light Intensity</h1>\n",
       "<p><code>figshare.com-harmonized_ntl-1.1.1</code> Last Update: 2021-07-12T20:47:57</p>\n",
       "<p><em>Temporally calibrated DMSP-OLS NTL time series data from 1992-2013; and converted NTL time series from the VIIRS data (2014-2018) Spatial resolution: 30 arc-seconds (~1km)</em></p>\n",
       "<p>This dataset provides reference links to each of the annual noghtime lights images from a\n",
       "collection of images built from DMSP and VIIRS data, for the years 1992 to 2018.</p>\n",
       "<h2>Documentation Links</h2>\n",
       "<ul>\n",
       "<li><a href=\"http://library.metatab.org/figshare.com-harmonized_ntl-1.1.1/index.html\">Documentation Page</a> </li>\n",
       "<li><a href=\"https://www.nature.com/articles/s41597-020-0510-y\">Research paper</a> </li>\n",
       "<li><a href=\"https://figshare.com/articles/dataset/Harmonization_of_DMSP_and_VIIRS_nighttime_light_data_from_1992-2018_at_the_global_scale/9828827/2\">Download page</a> </li>\n",
       "</ul>\n",
       "<h2>Contacts</h2>\n",
       "<ul>\n",
       "<li><strong>Wrangler</strong> <a href=\"mailto:eric@civicknowledge.com\">Eric Busboom</a>, <a href=\"http://civicknowledge.com\">Civic Knowledge</a></li>\n",
       "<li><strong>Creator</strong> Xuecao Li, Department of Geological and Atmospheric Sciences, Iowa State University</li>\n",
       "<li><strong>Creator</strong> Yuyu Zhou, Department of Geological and Atmospheric Sciences, Iowa State University</li>\n",
       "<li><strong>Creator</strong> Min Xhao, Department of Geological and Atmospheric Sciences, Iowa State University</li>\n",
       "<li><strong>Creator</strong> Xia Zhao, Department of Geological and Atmospheric Sciences, Iowa State University</li>\n",
       "</ul>\n",
       "<h2>References</h2>\n",
       "<ul><li> <strong><a href=\"https://ndownloader.figshare.com/articles/9828827/versions/2#Harmonized_DN_NTL_2008_calDMSP.tif&resource_format=zip\">ntl2008</a></strong>. Wordlwide night times lights raster, 2008</li><li> <strong><a href=\"https://ndownloader.figshare.com/articles/9828827/versions/2#Harmonized_DN_NTL_2009_calDMSP.tif&resource_format=zip\">ntl2009</a></strong>. Wordlwide night times lights raster, 2009</li><li> <strong><a href=\"https://ndownloader.figshare.com/articles/9828827/versions/2#Harmonized_DN_NTL_2010_calDMSP.tif&resource_format=zip\">ntl2010</a></strong>. Wordlwide night times lights raster, 2010</li><li> <strong><a href=\"https://ndownloader.figshare.com/articles/9828827/versions/2#Harmonized_DN_NTL_2011_calDMSP.tif&resource_format=zip\">ntl2011</a></strong>. Wordlwide night times lights raster, 2011</li><li> <strong><a href=\"https://ndownloader.figshare.com/articles/9828827/versions/2#Harmonized_DN_NTL_2012_calDMSP.tif&resource_format=zip\">ntl2012</a></strong>. Wordlwide night times lights raster, 2012</li><li> <strong><a href=\"https://ndownloader.figshare.com/articles/9828827/versions/2#Harmonized_DN_NTL_2013_calDMSP.tif&resource_format=zip\">ntl2013</a></strong>. Wordlwide night times lights raster, 2013</li><li> <strong><a href=\"https://ndownloader.figshare.com/articles/9828827/versions/2#Harmonized_DN_NTL_2014_simVIIRS.tif&resource_format=zip\">ntl2014</a></strong>. Wordlwide night times lights raster, 2014</li><li> <strong><a href=\"https://ndownloader.figshare.com/articles/9828827/versions/2#Harmonized_DN_NTL_2015_simVIIRS.tif&resource_format=zip\">ntl2015</a></strong>. Wordlwide night times lights raster, 2015</li><li> <strong><a href=\"https://ndownloader.figshare.com/articles/9828827/versions/2#Harmonized_DN_NTL_2016_simVIIRS.tif&resource_format=zip\">ntl2016</a></strong>. Wordlwide night times lights raster, 2016</li><li> <strong><a href=\"https://ndownloader.figshare.com/articles/9828827/versions/2#Harmonized_DN_NTL_2017_simVIIRS.tif&resource_format=zip\">ntl2017</a></strong>. Wordlwide night times lights raster, 2017</li><li> <strong><a href=\"https://ndownloader.figshare.com/articles/9828827/versions/2#Harmonized_DN_NTL_2018_simVIIRS.tif&resource_format=zip\">ntl2018</a></strong>. Wordlwide night times lights raster, 2018</li><li> <strong><a href=\"https://ndownloader.figshare.com/articles/9828827/versions/2#Harmonized_DN_NTL_1992_calDMSP.tif&resource_format=zip\">ntl1992</a></strong>. Wordlwide night times lights raster, 1992</li><li> <strong><a href=\"https://ndownloader.figshare.com/articles/9828827/versions/2#Harmonized_DN_NTL_1993_calDMSP.tif&resource_format=zip\">ntl1993</a></strong>. Wordlwide night times lights raster, 1993</li><li> <strong><a href=\"https://ndownloader.figshare.com/articles/9828827/versions/2#Harmonized_DN_NTL_1994_calDMSP.tif&resource_format=zip\">ntl1994</a></strong>. Wordlwide night times lights raster, 1994</li><li> <strong><a href=\"https://ndownloader.figshare.com/articles/9828827/versions/2#Harmonized_DN_NTL_1995_calDMSP.tif&resource_format=zip\">ntl1995</a></strong>. Wordlwide night times lights raster, 1995</li><li> <strong><a href=\"https://ndownloader.figshare.com/articles/9828827/versions/2#Harmonized_DN_NTL_1996_calDMSP.tif&resource_format=zip\">ntl1996</a></strong>. Wordlwide night times lights raster, 1996</li><li> <strong><a href=\"https://ndownloader.figshare.com/articles/9828827/versions/2#Harmonized_DN_NTL_1997_calDMSP.tif&resource_format=zip\">ntl1997</a></strong>. Wordlwide night times lights raster, 1997</li><li> <strong><a href=\"https://ndownloader.figshare.com/articles/9828827/versions/2#Harmonized_DN_NTL_1998_calDMSP.tif&resource_format=zip\">ntl1998</a></strong>. Wordlwide night times lights raster, 1998</li><li> <strong><a href=\"https://ndownloader.figshare.com/articles/9828827/versions/2#Harmonized_DN_NTL_1999_calDMSP.tif&resource_format=zip\">ntl1999</a></strong>. Wordlwide night times lights raster, 1999</li><li> <strong><a href=\"https://ndownloader.figshare.com/articles/9828827/versions/2#Harmonized_DN_NTL_2000_calDMSP.tif&resource_format=zip\">ntl2000</a></strong>. Wordlwide night times lights raster, 2000</li><li> <strong><a href=\"https://ndownloader.figshare.com/articles/9828827/versions/2#Harmonized_DN_NTL_2001_calDMSP.tif&resource_format=zip\">ntl2001</a></strong>. Wordlwide night times lights raster, 2001</li><li> <strong><a href=\"https://ndownloader.figshare.com/articles/9828827/versions/2#Harmonized_DN_NTL_2002_calDMSP.tif&resource_format=zip\">ntl2002</a></strong>. Wordlwide night times lights raster, 2002</li><li> <strong><a href=\"https://ndownloader.figshare.com/articles/9828827/versions/2#Harmonized_DN_NTL_2003_calDMSP.tif&resource_format=zip\">ntl2003</a></strong>. Wordlwide night times lights raster, 2003</li><li> <strong><a href=\"https://ndownloader.figshare.com/articles/9828827/versions/2#Harmonized_DN_NTL_2004_calDMSP.tif&resource_format=zip\">ntl2004</a></strong>. Wordlwide night times lights raster, 2004</li><li> <strong><a href=\"https://ndownloader.figshare.com/articles/9828827/versions/2#Harmonized_DN_NTL_2005_calDMSP.tif&resource_format=zip\">ntl2005</a></strong>. Wordlwide night times lights raster, 2005</li><li> <strong><a href=\"https://ndownloader.figshare.com/articles/9828827/versions/2#Harmonized_DN_NTL_2006_calDMSP.tif&resource_format=zip\">ntl2006</a></strong>. Wordlwide night times lights raster, 2006</li><li> <strong><a href=\"https://ndownloader.figshare.com/articles/9828827/versions/2#Harmonized_DN_NTL_2007_calDMSP.tif&resource_format=zip\">ntl2007</a></strong>. Wordlwide night times lights raster, 2007</li><li> <strong><a href=\"https://ndownloader.figshare.com/articles/9828827/versions/2#DN_NTL_2013_simVIIRS.tif&resource_format=zip\">ntl2013</a></strong>. Wordlwide night times lights raster, 2013</li><ul>"
      ],
      "text/plain": [
       "# Multiyear Nightime Light Intensity\n",
       "`figshare.com-harmonized_ntl-1.1.1` Last Update: 2021-07-12T20:47:57\n",
       "\n",
       "_Temporally calibrated DMSP-OLS NTL time series data from 1992-2013; and converted NTL time series from the VIIRS data (2014-2018) Spatial resolution: 30 arc-seconds (~1km)_\n",
       "\n",
       "\n",
       "This dataset provides reference links to each of the annual noghtime lights images from a\n",
       "collection of images built from DMSP and VIIRS data, for the years 1992 to 2018.\n",
       "## Documentation Links\n",
       "\n",
       "* [Documentation Page](http://library.metatab.org/figshare.com-harmonized_ntl-1.1.1/index.html) \n",
       "* [Research paper](https://www.nature.com/articles/s41597-020-0510-y) \n",
       "* [Download page](https://figshare.com/articles/dataset/Harmonization_of_DMSP_and_VIIRS_nighttime_light_data_from_1992-2018_at_the_global_scale/9828827/2) \n",
       "\n",
       " \n",
       "\n",
       "## Contacts\n",
       "\n",
       "* **Wrangler** [Eric Busboom](mailto:eric@civicknowledge.com), [Civic Knowledge](http://civicknowledge.com)\n",
       "* **Creator** Xuecao Li, Department of Geological and Atmospheric Sciences, Iowa State University\n",
       "* **Creator** Yuyu Zhou, Department of Geological and Atmospheric Sciences, Iowa State University\n",
       "* **Creator** Min Xhao, Department of Geological and Atmospheric Sciences, Iowa State University\n",
       "* **Creator** Xia Zhao, Department of Geological and Atmospheric Sciences, Iowa State University\n",
       "\n",
       "\n",
       "## References\n",
       "<ul><li> <strong><a href=\"https://ndownloader.figshare.com/articles/9828827/versions/2#Harmonized_DN_NTL_2008_calDMSP.tif&resource_format=zip\">ntl2008</a></strong>. Wordlwide night times lights raster, 2008</li><li> <strong><a href=\"https://ndownloader.figshare.com/articles/9828827/versions/2#Harmonized_DN_NTL_2009_calDMSP.tif&resource_format=zip\">ntl2009</a></strong>. Wordlwide night times lights raster, 2009</li><li> <strong><a href=\"https://ndownloader.figshare.com/articles/9828827/versions/2#Harmonized_DN_NTL_2010_calDMSP.tif&resource_format=zip\">ntl2010</a></strong>. Wordlwide night times lights raster, 2010</li><li> <strong><a href=\"https://ndownloader.figshare.com/articles/9828827/versions/2#Harmonized_DN_NTL_2011_calDMSP.tif&resource_format=zip\">ntl2011</a></strong>. Wordlwide night times lights raster, 2011</li><li> <strong><a href=\"https://ndownloader.figshare.com/articles/9828827/versions/2#Harmonized_DN_NTL_2012_calDMSP.tif&resource_format=zip\">ntl2012</a></strong>. Wordlwide night times lights raster, 2012</li><li> <strong><a href=\"https://ndownloader.figshare.com/articles/9828827/versions/2#Harmonized_DN_NTL_2013_calDMSP.tif&resource_format=zip\">ntl2013</a></strong>. Wordlwide night times lights raster, 2013</li><li> <strong><a href=\"https://ndownloader.figshare.com/articles/9828827/versions/2#Harmonized_DN_NTL_2014_simVIIRS.tif&resource_format=zip\">ntl2014</a></strong>. Wordlwide night times lights raster, 2014</li><li> <strong><a href=\"https://ndownloader.figshare.com/articles/9828827/versions/2#Harmonized_DN_NTL_2015_simVIIRS.tif&resource_format=zip\">ntl2015</a></strong>. Wordlwide night times lights raster, 2015</li><li> <strong><a href=\"https://ndownloader.figshare.com/articles/9828827/versions/2#Harmonized_DN_NTL_2016_simVIIRS.tif&resource_format=zip\">ntl2016</a></strong>. Wordlwide night times lights raster, 2016</li><li> <strong><a href=\"https://ndownloader.figshare.com/articles/9828827/versions/2#Harmonized_DN_NTL_2017_simVIIRS.tif&resource_format=zip\">ntl2017</a></strong>. Wordlwide night times lights raster, 2017</li><li> <strong><a href=\"https://ndownloader.figshare.com/articles/9828827/versions/2#Harmonized_DN_NTL_2018_simVIIRS.tif&resource_format=zip\">ntl2018</a></strong>. Wordlwide night times lights raster, 2018</li><li> <strong><a href=\"https://ndownloader.figshare.com/articles/9828827/versions/2#Harmonized_DN_NTL_1992_calDMSP.tif&resource_format=zip\">ntl1992</a></strong>. Wordlwide night times lights raster, 1992</li><li> <strong><a href=\"https://ndownloader.figshare.com/articles/9828827/versions/2#Harmonized_DN_NTL_1993_calDMSP.tif&resource_format=zip\">ntl1993</a></strong>. Wordlwide night times lights raster, 1993</li><li> <strong><a href=\"https://ndownloader.figshare.com/articles/9828827/versions/2#Harmonized_DN_NTL_1994_calDMSP.tif&resource_format=zip\">ntl1994</a></strong>. Wordlwide night times lights raster, 1994</li><li> <strong><a href=\"https://ndownloader.figshare.com/articles/9828827/versions/2#Harmonized_DN_NTL_1995_calDMSP.tif&resource_format=zip\">ntl1995</a></strong>. Wordlwide night times lights raster, 1995</li><li> <strong><a href=\"https://ndownloader.figshare.com/articles/9828827/versions/2#Harmonized_DN_NTL_1996_calDMSP.tif&resource_format=zip\">ntl1996</a></strong>. Wordlwide night times lights raster, 1996</li><li> <strong><a href=\"https://ndownloader.figshare.com/articles/9828827/versions/2#Harmonized_DN_NTL_1997_calDMSP.tif&resource_format=zip\">ntl1997</a></strong>. Wordlwide night times lights raster, 1997</li><li> <strong><a href=\"https://ndownloader.figshare.com/articles/9828827/versions/2#Harmonized_DN_NTL_1998_calDMSP.tif&resource_format=zip\">ntl1998</a></strong>. Wordlwide night times lights raster, 1998</li><li> <strong><a href=\"https://ndownloader.figshare.com/articles/9828827/versions/2#Harmonized_DN_NTL_1999_calDMSP.tif&resource_format=zip\">ntl1999</a></strong>. Wordlwide night times lights raster, 1999</li><li> <strong><a href=\"https://ndownloader.figshare.com/articles/9828827/versions/2#Harmonized_DN_NTL_2000_calDMSP.tif&resource_format=zip\">ntl2000</a></strong>. Wordlwide night times lights raster, 2000</li><li> <strong><a href=\"https://ndownloader.figshare.com/articles/9828827/versions/2#Harmonized_DN_NTL_2001_calDMSP.tif&resource_format=zip\">ntl2001</a></strong>. Wordlwide night times lights raster, 2001</li><li> <strong><a href=\"https://ndownloader.figshare.com/articles/9828827/versions/2#Harmonized_DN_NTL_2002_calDMSP.tif&resource_format=zip\">ntl2002</a></strong>. Wordlwide night times lights raster, 2002</li><li> <strong><a href=\"https://ndownloader.figshare.com/articles/9828827/versions/2#Harmonized_DN_NTL_2003_calDMSP.tif&resource_format=zip\">ntl2003</a></strong>. Wordlwide night times lights raster, 2003</li><li> <strong><a href=\"https://ndownloader.figshare.com/articles/9828827/versions/2#Harmonized_DN_NTL_2004_calDMSP.tif&resource_format=zip\">ntl2004</a></strong>. Wordlwide night times lights raster, 2004</li><li> <strong><a href=\"https://ndownloader.figshare.com/articles/9828827/versions/2#Harmonized_DN_NTL_2005_calDMSP.tif&resource_format=zip\">ntl2005</a></strong>. Wordlwide night times lights raster, 2005</li><li> <strong><a href=\"https://ndownloader.figshare.com/articles/9828827/versions/2#Harmonized_DN_NTL_2006_calDMSP.tif&resource_format=zip\">ntl2006</a></strong>. Wordlwide night times lights raster, 2006</li><li> <strong><a href=\"https://ndownloader.figshare.com/articles/9828827/versions/2#Harmonized_DN_NTL_2007_calDMSP.tif&resource_format=zip\">ntl2007</a></strong>. Wordlwide night times lights raster, 2007</li><li> <strong><a href=\"https://ndownloader.figshare.com/articles/9828827/versions/2#DN_NTL_2013_simVIIRS.tif&resource_format=zip\">ntl2013</a></strong>. Wordlwide night times lights raster, 2013</li><ul>\n"
      ]
     },
     "execution_count": 3,
     "metadata": {},
     "output_type": "execute_result"
    }
   ],
   "source": [
    "ntl_p"
   ]
  },
  {
   "cell_type": "code",
   "execution_count": 4,
   "id": "d819835a-3d97-4863-b23a-56a4bf113c02",
   "metadata": {},
   "outputs": [
    {
     "data": {
      "image/png": "[encoded data removed]",
      "text/plain": [
       "<Figure size 432x288 with 1 Axes>"
      ]
     },
     "metadata": {
      "needs_background": "light"
     },
     "output_type": "display_data"
    }
   ],
   "source": [
    "\n",
    "RADIUS = 5_000\n",
    "\n",
    "# Create Dataframes\n",
    "sez = sez_p.resource('sez').geoframe()\n",
    "\n",
    "sez.to_crs(3395).buffer(1000000).plot()\n",
    "\n",
    "# Update the SEZ geometries to be a 20KM buffer around the point. We project to \n",
    "# EPSG:3395, World Mercator, to be able to make the buffer in meters. \n",
    "g =  sez.to_crs(3395).buffer(RADIUS)\n",
    "\n",
    "sez['geo_area'] = g.area\n",
    "sez['geometry'] = g.to_crs(4326)\n",
    "\n",
    "# The operational date col is a string, so make an int year column. \n",
    "sez['year'] = pd.to_numeric(sez.operational_date, errors='coerce')\n"
   ]
  },
  {
   "cell_type": "code",
   "execution_count": 5,
   "id": "892f6296-d674-4c95-a221-bd33c0294305",
   "metadata": {},
   "outputs": [],
   "source": [
    "# Load a year of rasters, masked and cropped to a geometry\n",
    "# See the rasterio documentation for more examples: \n",
    "# https://rasterio.readthedocs.io/en/latest/topics/masking-by-shapefile.html\n",
    "def load_ntl(pkg, year, shapes=None):\n",
    "    \n",
    "    ref = pkg.reference(f'ntl{year}').resolved_url.get_resource().get_target()\n",
    "    \n",
    "    with rasterio.open(str(ref.fspath)) as src:\n",
    "        \n",
    "        if shapes is not None:\n",
    "            img, transform = rasterio.mask.mask(src, shapes, crop=True)\n",
    "        else:\n",
    "            img =  src.read()\n",
    "            transform = None\n",
    "            \n",
    "        meta = src.meta\n",
    "      \n",
    "        \n",
    "        return img, meta, transform\n",
    "\n"
   ]
  },
  {
   "cell_type": "code",
   "execution_count": null,
   "id": "2b1e778a-90fa-4c88-b47d-0b2a6bc2afef",
   "metadata": {
    "tags": []
   },
   "outputs": [
    {
     "name": "stdout",
     "output_type": "stream",
     "text": [
      "15768\n"
     ]
    },
    {
     "data": {
      "application/vnd.jupyter.widget-view+json": {
       "model_id": "a4e3a8fe5182456d861747cf4599a4c4",
       "version_major": 2,
       "version_minor": 0
      },
      "text/plain": [
       "  0%|          | 0/15768 [00:00<?, ?it/s]"
      ]
     },
     "metadata": {},
     "output_type": "display_data"
    }
   ],
   "source": [
    "\n",
    "# Create a set of tasks parameters, year and geometry of the SEZ\n",
    "tasks = [  (year, r.unique_id, r.geometry) for idx,r in sez.iterrows() for year in list(range(1992, 2018+1))]\n",
    "print(len(tasks))\n",
    "\n",
    "# Run the extraction tasks in parallel\n",
    "# First, define the function we will run in parallel\n",
    "def _f(year, sez_id, geo):\n",
    "    try:\n",
    "        return (year, sez_id, load_ntl(ntl_p, year, [geo])[0])\n",
    "    except Exception as e:\n",
    "        (year, sez_id, e)\n",
    "\n",
    "# Second, run the tasks\n",
    "patches = Parallel(prefer='threads')(delayed(_f)(*t) for t in tqdm(tasks))\n",
    "\n",
    "exc = [(year, sez_id,  e) for year, sez_id,  e in patches if isinstance(e, Exception)]\n",
    "print(f\"Exceptions: {len(exc)}\")\n"
   ]
  },
  {
   "cell_type": "code",
   "execution_count": null,
   "id": "4c05d59b-7fd1-42f1-8327-37e85c972ff2",
   "metadata": {},
   "outputs": [],
   "source": [
    "# Write all of the patches to an HDF5 file\n",
    "\n",
    "source_fn = 'sez_circ_patches.h5'\n",
    "\n",
    "with h5py.File('sez_circ_patches.h5', 'w') as f:\n",
    "    for year, sez_id,  e in patches:\n",
    "        k = f'circle/{sez_id}/{year}'\n",
    "        f[k] = e"
   ]
  },
  {
   "cell_type": "code",
   "execution_count": null,
   "id": "7b51af96-e22a-4f86-b0fb-231da8e88330",
   "metadata": {},
   "outputs": [],
   "source": [
    "# Upload the file to S3\n",
    "# This won't work if you don't have access to the bucket, which \n",
    "# you probably don't\n",
    "\n",
    "try:\n",
    "    s3_client = boto3.client('s3')\n",
    "    \n",
    "    dest_fn = f'sez_circ_patches_{RADIUS}.h5'\n",
    "    s3_client.upload_file(source_fn, 'public.source.civicknowledge.com', 'sez/'+dest_fn, ExtraArgs={'ACL': 'public-read'})\n",
    "except Exception as e:\n",
    "    print(f\"Nope: {e}\")\n"
   ]
  },
  {
   "cell_type": "markdown",
   "id": "cf838a4a-a988-4500-8fa2-c50a760163e0",
   "metadata": {},
   "source": [
    "# Test the patches"
   ]
  },
  {
   "cell_type": "code",
   "execution_count": null,
   "id": "3783c5d0-3e7f-4385-a109-3fdb850a6e7b",
   "metadata": {},
   "outputs": [],
   "source": [
    "# Test the file upload\n",
    "\n",
    "# Download the file\n",
    "dl_fn = 'patches_{RADIUS}.h5'\n",
    "with open(dl_fn, \"wb\") as file:\n",
    "    # get request\n",
    "    response = requests.get(f'http://public.source.civicknowledge.com.s3.amazonaws.com/sez/sez_circ_patches_{RADIUS}.h5')\n",
    "    # write to file\n",
    "    file.write(response.content)\n",
    "    \n",
    "# Get a random selection of patches from the file\n",
    "def get_hdf_keys(f):\n",
    "    \"\"\"Return all of the dataset keys in an HDF5 file\"\"\"\n",
    "    keys = []\n",
    "    f.visit(lambda key : keys.append(key) if isinstance(f[key], h5py.Dataset) else None)\n",
    "    return keys\n",
    "\n",
    "with h5py.File('patches.h5', 'r') as f:\n",
    "    keys = get_hdf_keys(f)\n",
    "    \n",
    "# Plot a random sample\n",
    "from random import shuffle\n",
    "shuffle(keys)\n",
    "\n",
    "fig, axes = plt.subplots(5,5, figsize=(10,10))\n",
    "axes = np.ravel(axes)\n",
    "\n",
    "with h5py.File('patches.h5', 'r') as f:\n",
    "    for k, a in zip(keys[:len(axes)], axes):\n",
    "        r = f[k][:]\n",
    "        a.set_axis_off()\n",
    "        show(r, ax=a)\n",
    "\n",
    "fig.suptitle('Sample of 25 NTL Patches', fontsize=14)\n",
    "plt.tight_layout()"
   ]
  },
  {
   "cell_type": "code",
   "execution_count": null,
   "id": "83a2d5f8-eb4d-4e06-94c8-8aa77f312dfd",
   "metadata": {},
   "outputs": [],
   "source": []
  }
 ],
 "metadata": {
  "kernelspec": {
   "display_name": "Python 3",
   "language": "python",
   "name": "python3"
  },
  "language_info": {
   "codemirror_mode": {
    "name": "ipython",
    "version": 3
   },
   "file_extension": ".py",
   "mimetype": "text/x-python",
   "name": "python",
   "nbconvert_exporter": "python",
   "pygments_lexer": "ipython3",
   "version": "3.7.7"
  }
 },
 "nbformat": 4,
 "nbformat_minor": 5
}
