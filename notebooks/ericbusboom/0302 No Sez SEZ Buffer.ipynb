{
 "cells": [
  {
   "cell_type": "markdown",
   "id": "3f839c32-e76c-4a41-a00d-b8c051a056ba",
   "metadata": {},
   "source": [
    "# Find areas with no SEZ, SEZ Buffer Method\n",
    "\n",
    "This notebook identifies areas that are near SEZ, but outsize of the analysis radius of any SEZ, to use as a comparison to the growth of SEZ. \n"
   ]
  },
  {
   "cell_type": "code",
   "execution_count": 1,
   "id": "4583f346-1df9-4675-ae39-778cdbc52942",
   "metadata": {},
   "outputs": [],
   "source": [
    "import metapack as mp\n",
    "import pandas as pd\n",
    "import geopandas as gpd\n",
    "import numpy as np\n",
    "import rasterio\n",
    "import rasterio.mask\n",
    "from rasterio.plot import reshape_as_raster, reshape_as_image, show\n",
    "from joblib import Parallel, delayed\n",
    "from tqdm.notebook import tqdm\n",
    "\n",
    "%run ./lib.py\n",
    "\n",
    "import matplotlib.pyplot as plt\n",
    "%matplotlib inline\n",
    "import seaborn as sns\n",
    "sns.set_context('notebook')\n"
   ]
  },
  {
   "cell_type": "code",
   "execution_count": 2,
   "id": "e1060966-20f2-45f6-b4e1-3be2a6071b95",
   "metadata": {},
   "outputs": [],
   "source": [
    "sez_p = mp.open_package('http://library.metatab.org/worldbank.org-sez-1.1.1.csv')\n",
    "ntl_p = mp.open_package('http://library.metatab.org/figshare.com-harmonized_ntl-1.1.1.csv')\n",
    "\n",
    "# Create Dataframes\n",
    "sez = sez_p.resource('sez').geoframe()\n",
    "\n"
   ]
  },
  {
   "cell_type": "markdown",
   "id": "bc98d383-1c6f-4c3c-b73a-d69e312872ba",
   "metadata": {},
   "source": [
    "\n",
    "\n",
    "Create a buffer around each SEZ. The outer ring ought to have the same area as the analysis area around the SEZ. For $r_1$ is the radius of the analysis area around the SEZ, and $r_2$ is the radius of the rind around the SEZ analysis area. This makes the comparison area between $r_1$ and $r_2$. \n",
    "\n",
    "$$ \\begin{gather}\n",
    "A_1 = \\pi r_1^2 \\tag{1} \\\\\n",
    "A_2 = \\pi r_2^2 - A_1 \\\\\n",
    "A_2 = A_1 \\\\\n",
    "\\end{gather}$$\n",
    "\n",
    "Therefore, $r_2 = \\sqrt{2} r_1$\n"
   ]
  },
  {
   "cell_type": "code",
   "execution_count": 10,
   "id": "be996d26-367f-4138-8362-ec4364299c79",
   "metadata": {},
   "outputs": [
    {
     "name": "stdout",
     "output_type": "stream",
     "text": [
      "2322\n"
     ]
    },
    {
     "data": {
      "application/vnd.jupyter.widget-view+json": {
       "model_id": "3d4daa79e4434cf39f0c8af58ec1278e",
       "version_major": 2,
       "version_minor": 0
      },
      "text/plain": [
       "ring:   0%|          | 0/2322 [00:00<?, ?it/s]"
      ]
     },
     "metadata": {},
     "output_type": "display_data"
    },
    {
     "data": {
      "text/html": [
       "<div>\n",
       "<style scoped>\n",
       "    .dataframe tbody tr th:only-of-type {\n",
       "        vertical-align: middle;\n",
       "    }\n",
       "\n",
       "    .dataframe tbody tr th {\n",
       "        vertical-align: top;\n",
       "    }\n",
       "\n",
       "    .dataframe thead th {\n",
       "        text-align: right;\n",
       "    }\n",
       "</style>\n",
       "<table border=\"1\" class=\"dataframe\">\n",
       "  <thead>\n",
       "    <tr style=\"text-align: right;\">\n",
       "      <th></th>\n",
       "      <th>id</th>\n",
       "      <th>unique_id</th>\n",
       "      <th>check</th>\n",
       "      <th>latitude</th>\n",
       "      <th>longitude</th>\n",
       "      <th>country_code</th>\n",
       "      <th>country_type_combo</th>\n",
       "      <th>region</th>\n",
       "      <th>country</th>\n",
       "      <th>zone_type</th>\n",
       "      <th>...</th>\n",
       "      <th>city_1m</th>\n",
       "      <th>city_1mdist</th>\n",
       "      <th>city_500k</th>\n",
       "      <th>city_500kdist</th>\n",
       "      <th>500kcity_range</th>\n",
       "      <th>city_300k</th>\n",
       "      <th>city_300kdist</th>\n",
       "      <th>note</th>\n",
       "      <th>geometry</th>\n",
       "      <th>ring</th>\n",
       "    </tr>\n",
       "  </thead>\n",
       "  <tbody>\n",
       "    <tr>\n",
       "      <th>6</th>\n",
       "      <td>6</td>\n",
       "      <td>KOR78</td>\n",
       "      <td>KOR</td>\n",
       "      <td>35.215581</td>\n",
       "      <td>128.602063</td>\n",
       "      <td>KOR</td>\n",
       "      <td>KORFree Trade Zone</td>\n",
       "      <td>EAP</td>\n",
       "      <td>Korea</td>\n",
       "      <td>Free Trade Zone</td>\n",
       "      <td>...</td>\n",
       "      <td>Changwon</td>\n",
       "      <td>10</td>\n",
       "      <td>Changwon</td>\n",
       "      <td>10</td>\n",
       "      <td>Less than 50 km</td>\n",
       "      <td>Changwon</td>\n",
       "      <td>10</td>\n",
       "      <td>NaN</td>\n",
       "      <td>POINT (128.60206 35.21558)</td>\n",
       "      <td>POLYGON ((128.72910 35.21558, 128.72849 35.205...</td>\n",
       "    </tr>\n",
       "    <tr>\n",
       "      <th>13</th>\n",
       "      <td>13</td>\n",
       "      <td>KOR65</td>\n",
       "      <td>KOR</td>\n",
       "      <td>37.480628</td>\n",
       "      <td>126.659656</td>\n",
       "      <td>KOR</td>\n",
       "      <td>KORIndustrial Complex</td>\n",
       "      <td>EAP</td>\n",
       "      <td>Korea</td>\n",
       "      <td>Industrial Complex</td>\n",
       "      <td>...</td>\n",
       "      <td>Incheon</td>\n",
       "      <td>7</td>\n",
       "      <td>Incheon</td>\n",
       "      <td>7</td>\n",
       "      <td>Less than 50 km</td>\n",
       "      <td>Incheon</td>\n",
       "      <td>7</td>\n",
       "      <td>NaN</td>\n",
       "      <td>POINT (126.65966 37.48063)</td>\n",
       "      <td>POLYGON ((126.78670 37.48063, 126.78609 37.470...</td>\n",
       "    </tr>\n",
       "    <tr>\n",
       "      <th>14</th>\n",
       "      <td>14</td>\n",
       "      <td>KOR33</td>\n",
       "      <td>KOR</td>\n",
       "      <td>36.371032</td>\n",
       "      <td>127.409984</td>\n",
       "      <td>KOR</td>\n",
       "      <td>KORIndustrial Complex</td>\n",
       "      <td>EAP</td>\n",
       "      <td>Korea</td>\n",
       "      <td>Industrial Complex</td>\n",
       "      <td>...</td>\n",
       "      <td>Daejeon</td>\n",
       "      <td>6</td>\n",
       "      <td>Daejeon</td>\n",
       "      <td>6</td>\n",
       "      <td>Less than 50 km</td>\n",
       "      <td>Daejeon</td>\n",
       "      <td>6</td>\n",
       "      <td>NaN</td>\n",
       "      <td>POINT (127.40998 36.37103)</td>\n",
       "      <td>POLYGON ((127.53702 36.37103, 127.53641 36.360...</td>\n",
       "    </tr>\n",
       "    <tr>\n",
       "      <th>15</th>\n",
       "      <td>15</td>\n",
       "      <td>KOR74</td>\n",
       "      <td>KOR</td>\n",
       "      <td>35.854207</td>\n",
       "      <td>127.096625</td>\n",
       "      <td>KOR</td>\n",
       "      <td>KORIndustrial Complex</td>\n",
       "      <td>EAP</td>\n",
       "      <td>Korea</td>\n",
       "      <td>Industrial Complex</td>\n",
       "      <td>...</td>\n",
       "      <td>Gwangju</td>\n",
       "      <td>73</td>\n",
       "      <td>Jeonju</td>\n",
       "      <td>6</td>\n",
       "      <td>Less than 50 km</td>\n",
       "      <td>Jeonju</td>\n",
       "      <td>6</td>\n",
       "      <td>NaN</td>\n",
       "      <td>POINT (127.09663 35.85421)</td>\n",
       "      <td>POLYGON ((127.22367 35.85421, 127.22305 35.844...</td>\n",
       "    </tr>\n",
       "    <tr>\n",
       "      <th>18</th>\n",
       "      <td>18</td>\n",
       "      <td>KOR63</td>\n",
       "      <td>KOR</td>\n",
       "      <td>35.944975</td>\n",
       "      <td>126.977547</td>\n",
       "      <td>KOR</td>\n",
       "      <td>KORIndustrial Complex</td>\n",
       "      <td>EAP</td>\n",
       "      <td>Korea</td>\n",
       "      <td>Industrial Complex</td>\n",
       "      <td>...</td>\n",
       "      <td>Daejeon</td>\n",
       "      <td>70</td>\n",
       "      <td>Jeonju</td>\n",
       "      <td>25</td>\n",
       "      <td>Less than 50 km</td>\n",
       "      <td>Jeonju</td>\n",
       "      <td>25</td>\n",
       "      <td>NaN</td>\n",
       "      <td>POINT (126.97755 35.94497)</td>\n",
       "      <td>POLYGON ((127.10459 35.94497, 127.10398 35.934...</td>\n",
       "    </tr>\n",
       "  </tbody>\n",
       "</table>\n",
       "<p>5 rows × 63 columns</p>\n",
       "</div>"
      ],
      "text/plain": [
       "    id unique_id check   latitude   longitude country_code  \\\n",
       "6    6     KOR78   KOR  35.215581  128.602063          KOR   \n",
       "13  13     KOR65   KOR  37.480628  126.659656          KOR   \n",
       "14  14     KOR33   KOR  36.371032  127.409984          KOR   \n",
       "15  15     KOR74   KOR  35.854207  127.096625          KOR   \n",
       "18  18     KOR63   KOR  35.944975  126.977547          KOR   \n",
       "\n",
       "       country_type_combo region country           zone_type  ...   city_1m  \\\n",
       "6      KORFree Trade Zone    EAP   Korea     Free Trade Zone  ...  Changwon   \n",
       "13  KORIndustrial Complex    EAP   Korea  Industrial Complex  ...   Incheon   \n",
       "14  KORIndustrial Complex    EAP   Korea  Industrial Complex  ...   Daejeon   \n",
       "15  KORIndustrial Complex    EAP   Korea  Industrial Complex  ...   Gwangju   \n",
       "18  KORIndustrial Complex    EAP   Korea  Industrial Complex  ...   Daejeon   \n",
       "\n",
       "   city_1mdist city_500k city_500kdist   500kcity_range city_300k  \\\n",
       "6           10  Changwon            10  Less than 50 km  Changwon   \n",
       "13           7   Incheon             7  Less than 50 km   Incheon   \n",
       "14           6   Daejeon             6  Less than 50 km   Daejeon   \n",
       "15          73    Jeonju             6  Less than 50 km    Jeonju   \n",
       "18          70    Jeonju            25  Less than 50 km    Jeonju   \n",
       "\n",
       "   city_300kdist note                    geometry  \\\n",
       "6             10  NaN  POINT (128.60206 35.21558)   \n",
       "13             7  NaN  POINT (126.65966 37.48063)   \n",
       "14             6  NaN  POINT (127.40998 36.37103)   \n",
       "15             6  NaN  POINT (127.09663 35.85421)   \n",
       "18            25  NaN  POINT (126.97755 35.94497)   \n",
       "\n",
       "                                                 ring  \n",
       "6   POLYGON ((128.72910 35.21558, 128.72849 35.205...  \n",
       "13  POLYGON ((126.78670 37.48063, 126.78609 37.470...  \n",
       "14  POLYGON ((127.53702 36.37103, 127.53641 36.360...  \n",
       "15  POLYGON ((127.22367 35.85421, 127.22305 35.844...  \n",
       "18  POLYGON ((127.10459 35.94497, 127.10398 35.934...  \n",
       "\n",
       "[5 rows x 63 columns]"
      ]
     },
     "execution_count": 10,
     "metadata": {},
     "output_type": "execute_result"
    }
   ],
   "source": [
    "# Create a set of tasks parameters, year and geometry of the SEZ\n",
    "%run ./lib.py\n",
    "\n",
    "\n",
    "sez_k = sez[sez.country == 'Korea'].copy()\n",
    "\n",
    "sez_j, patches, ring_sums = build_ring_sums(ntl_p, sez_k, radius=10_000)\n",
    "\n",
    "sez_j.head()"
   ]
  },
  {
   "cell_type": "code",
   "execution_count": 4,
   "id": "9e4bf142-0360-42fc-9b80-7813a492fb6b",
   "metadata": {},
   "outputs": [
    {
     "data": {
      "text/plain": [
       "<matplotlib.image.AxesImage at 0x7f89b16d4b90>"
      ]
     },
     "execution_count": 4,
     "metadata": {},
     "output_type": "execute_result"
    },
    {
     "data": {
      "image/png": "[encoded data removed]",
      "text/plain": [
       "<Figure size 432x288 with 1 Axes>"
      ]
     },
     "metadata": {
      "needs_background": "light"
     },
     "output_type": "display_data"
    }
   ],
   "source": [
    "# What do they look like?\n",
    "plt.imshow(patches[10][2][0,:,:])"
   ]
  },
  {
   "cell_type": "code",
   "execution_count": 5,
   "id": "0c78bc85-7e7b-4239-b2c3-082d0906f986",
   "metadata": {},
   "outputs": [],
   "source": [
    "\n"
   ]
  },
  {
   "cell_type": "code",
   "execution_count": 6,
   "id": "d371b3b6-3c86-4ba7-989f-bc00cc675c03",
   "metadata": {},
   "outputs": [
    {
     "data": {
      "text/html": [
       "<div>\n",
       "<style scoped>\n",
       "    .dataframe tbody tr th:only-of-type {\n",
       "        vertical-align: middle;\n",
       "    }\n",
       "\n",
       "    .dataframe tbody tr th {\n",
       "        vertical-align: top;\n",
       "    }\n",
       "\n",
       "    .dataframe thead th {\n",
       "        text-align: right;\n",
       "    }\n",
       "</style>\n",
       "<table border=\"1\" class=\"dataframe\">\n",
       "  <thead>\n",
       "    <tr style=\"text-align: right;\">\n",
       "      <th></th>\n",
       "      <th>year</th>\n",
       "      <th>sez_id</th>\n",
       "      <th>pix_sum</th>\n",
       "    </tr>\n",
       "  </thead>\n",
       "  <tbody>\n",
       "    <tr>\n",
       "      <th>0</th>\n",
       "      <td>1992</td>\n",
       "      <td>KOR78</td>\n",
       "      <td>7609</td>\n",
       "    </tr>\n",
       "    <tr>\n",
       "      <th>1</th>\n",
       "      <td>1993</td>\n",
       "      <td>KOR78</td>\n",
       "      <td>8355</td>\n",
       "    </tr>\n",
       "    <tr>\n",
       "      <th>2</th>\n",
       "      <td>1994</td>\n",
       "      <td>KOR78</td>\n",
       "      <td>8738</td>\n",
       "    </tr>\n",
       "    <tr>\n",
       "      <th>3</th>\n",
       "      <td>1995</td>\n",
       "      <td>KOR78</td>\n",
       "      <td>11496</td>\n",
       "    </tr>\n",
       "    <tr>\n",
       "      <th>4</th>\n",
       "      <td>1996</td>\n",
       "      <td>KOR78</td>\n",
       "      <td>12326</td>\n",
       "    </tr>\n",
       "  </tbody>\n",
       "</table>\n",
       "</div>"
      ],
      "text/plain": [
       "   year sez_id  pix_sum\n",
       "0  1992  KOR78     7609\n",
       "1  1993  KOR78     8355\n",
       "2  1994  KOR78     8738\n",
       "3  1995  KOR78    11496\n",
       "4  1996  KOR78    12326"
      ]
     },
     "execution_count": 6,
     "metadata": {},
     "output_type": "execute_result"
    }
   ],
   "source": []
  },
  {
   "cell_type": "code",
   "execution_count": 7,
   "id": "e7d6d095-5529-49bf-bfe8-a4740436a047",
   "metadata": {},
   "outputs": [
    {
     "data": {
      "text/plain": [
       "2322"
      ]
     },
     "execution_count": 7,
     "metadata": {},
     "output_type": "execute_result"
    }
   ],
   "source": [
    "len(t)"
   ]
  },
  {
   "cell_type": "code",
   "execution_count": null,
   "id": "cbf9562d-4ba2-4cf5-944e-409dae08628f",
   "metadata": {},
   "outputs": [],
   "source": []
  }
 ],
 "metadata": {
  "kernelspec": {
   "display_name": "Python 3 (ipykernel)",
   "language": "python",
   "name": "python3"
  },
  "language_info": {
   "codemirror_mode": {
    "name": "ipython",
    "version": 3
   },
   "file_extension": ".py",
   "mimetype": "text/x-python",
   "name": "python",
   "nbconvert_exporter": "python",
   "pygments_lexer": "ipython3",
   "version": "3.7.11"
  }
 },
 "nbformat": 4,
 "nbformat_minor": 5
}
