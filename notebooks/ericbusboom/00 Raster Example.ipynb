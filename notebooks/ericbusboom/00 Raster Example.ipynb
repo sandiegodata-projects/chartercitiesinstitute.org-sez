{
 "cells": [
  {
   "cell_type": "markdown",
   "id": "ab0fcb04",
   "metadata": {},
   "source": [
    "# Basic Nighttime Lights Raster Processing\n",
    "\n",
    "\n",
    "You can get these data packages via the ['sez' tag at the SDRDL Data Repository](https://data.sandiegodata.org/?s=sez)"
   ]
  },
  {
   "cell_type": "code",
   "execution_count": 1,
   "id": "28ded999",
   "metadata": {},
   "outputs": [],
   "source": [
    "import seaborn as sns\n",
    "import metapack as mp\n",
    "import pandas as pd\n",
    "import numpy as np\n",
    "import matplotlib.pyplot as plt\n",
    "import rowgenerators as rg\n",
    "import fiona\n",
    "import rasterio\n",
    "import rasterio.mask\n",
    "from IPython.display import display \n",
    "from rasterio.plot import reshape_as_raster, reshape_as_image, show\n",
    "\n",
    "%matplotlib inline\n",
    "sns.set_context('notebook')\n"
   ]
  },
  {
   "cell_type": "code",
   "execution_count": 2,
   "id": "f52c7680",
   "metadata": {
    "jupyter": {
     "source_hidden": true
    },
    "tags": []
   },
   "outputs": [
    {
     "name": "stdout",
     "output_type": "stream",
     "text": [
      "skorea (229, 16)\n",
      "china (344, 16)\n",
      "vietnam (678, 16)\n",
      "turkey (928, 16)\n",
      "philippines (1652, 16)\n",
      "indonesia (444, 16)\n",
      "colombia (1065, 16)\n"
     ]
    }
   ],
   "source": [
    "# Load the administrative boundaries\n",
    "pkg = mp.open_package('http://library.metatab.org/berkeley.edu-administrative_boundaries-1.1.1.csv')\n",
    "\n",
    "# Create Dataframes\n",
    "\n",
    "admin = {}\n",
    "for r in pkg.resources():\n",
    "    # Only load second level admin boundary files\n",
    "    if r.name.endswith('admin2'):\n",
    "        p = r.name.split('_')\n",
    "        # Store in dict with country name as key\n",
    "        admin[p[0]] =  pkg.resource(r.name).geoframe()\n",
    "        \n",
    "for k,v in admin.items():\n",
    "    print(k, v.shape)"
   ]
  },
  {
   "cell_type": "code",
   "execution_count": 3,
   "id": "6769cdc6",
   "metadata": {},
   "outputs": [],
   "source": [
    "# US Counties, for an additional comparison\n",
    "counties=rg.geoframe('censusgeo://2019/05/US/county')"
   ]
  },
  {
   "cell_type": "code",
   "execution_count": 4,
   "id": "94f09a0a",
   "metadata": {},
   "outputs": [],
   "source": [
    "# Load two years of rasters\n",
    "# See the rasterio documentation for more examples: \n",
    "# https://rasterio.readthedocs.io/en/latest/topics/masking-by-shapefile.html\n",
    "def load_ntl(pkg, year, shapes=None):\n",
    "    \n",
    "    ref = pkg.reference(f'ntl{year}').resolved_url.get_resource().get_target()\n",
    "    \n",
    "    with rasterio.open(ref.fspath) as src:\n",
    "        \n",
    "        if shapes is not None:\n",
    "            img, transform = rasterio.mask.mask(src, shapes, crop=True)\n",
    "        else:\n",
    "            img =  src.read()\n",
    "            transform = None\n",
    "            \n",
    "        meta = src.meta\n",
    "      \n",
    "        \n",
    "        return img, meta, transform\n",
    "\n",
    "ntl = mp.open_package('http://library.metatab.org/figshare.com-harmonized_ntl-1.1.1.csv')\n",
    "    \n",
    "    \n",
    "#ntl92, m92, t92 = load_ntl(ntl, 1992, tx.geometry)\n",
    "#ntl18, m18, t18 = load_ntl(ntl, 2018, tx.geometry)\n",
    "sk18, m18, t18 = load_ntl(ntl, 2018, admin['skorea'].geometry)"
   ]
  },
  {
   "cell_type": "code",
   "execution_count": null,
   "id": "ea469542",
   "metadata": {},
   "outputs": [],
   "source": [
    "rasters = [ load_ntl(ntl, 2018, [r.geometry])[0] for idx,r in admin['skorea'].iterrows()] "
   ]
  },
  {
   "cell_type": "code",
   "execution_count": null,
   "id": "40f47f6c",
   "metadata": {},
   "outputs": [],
   "source": [
    "len(rasters)"
   ]
  },
  {
   "cell_type": "code",
   "execution_count": null,
   "id": "aa9d6436",
   "metadata": {},
   "outputs": [],
   "source": [
    "# Load a raster patch for each of the second-level administrative regions of\n",
    "# South Korea and plot the first 100\n",
    "\n",
    "#ntl = mp.open_package('http://library.metatab.org/figshare.com-harmonized_ntl-1.1.1.csv')\n",
    "\n",
    "#rasters = [ load_ntl(ntl, 2018, [r.geometry])[0] for idx,r in admin['skorea'].iterrows()]   \n",
    "    \n",
    "fig, axes = plt.subplots(10,10, figsize=(10,10))\n",
    "axes = np.ravel(axes)\n",
    "for r, a in zip(rasters, axes):\n",
    "    a.set_axis_off()\n",
    "    show(r, ax=a)\n",
    "    \n",
    "fig.suptitle('2018 Nighttime Light Intensity\\n100 Cities, Counties and District in South Korea', fontsize=14)"
   ]
  },
  {
   "cell_type": "code",
   "execution_count": null,
   "id": "3ad16049",
   "metadata": {},
   "outputs": [],
   "source": [
    "sk98, m98, t98 = load_ntl(ntl, 1998, admin['skorea'].geometry)\n",
    "sk18, m18, t18 = load_ntl(ntl, 2018, admin['skorea'].geometry)"
   ]
  },
  {
   "cell_type": "code",
   "execution_count": null,
   "id": "076c440a",
   "metadata": {},
   "outputs": [],
   "source": [
    "fig, ax = plt.subplots(1, 3, figsize=(12,4))\n",
    "\n",
    "ax[0].imshow(reshape_as_image(sk98))\n",
    "ax[0].set_title('1998')\n",
    "ax[1].imshow(reshape_as_image(sk18))\n",
    "ax[1].set_title('2018')\n",
    "ax[2].imshow(reshape_as_image(sk18-sk98))\n",
    "ax[2].set_title('difference')\n",
    "fig.suptitle(\"Nighttime Light Intensity of South Korea\\n1998 and 2018\", fontsize=18);\n",
    "plt.tight_layout()"
   ]
  },
  {
   "cell_type": "code",
   "execution_count": null,
   "id": "d3f4463b",
   "metadata": {},
   "outputs": [],
   "source": [
    "\n"
   ]
  },
  {
   "cell_type": "code",
   "execution_count": null,
   "id": "828380e0",
   "metadata": {},
   "outputs": [],
   "source": [
    "show(sk18)"
   ]
  },
  {
   "cell_type": "code",
   "execution_count": null,
   "id": "783963b4",
   "metadata": {},
   "outputs": [],
   "source": []
  }
 ],
 "metadata": {
  "kernelspec": {
   "display_name": "Python 3",
   "language": "python",
   "name": "python3"
  },
  "language_info": {
   "codemirror_mode": {
    "name": "ipython",
    "version": 3
   },
   "file_extension": ".py",
   "mimetype": "text/x-python",
   "name": "python",
   "nbconvert_exporter": "python",
   "pygments_lexer": "ipython3",
   "version": "3.8.11"
  }
 },
 "nbformat": 4,
 "nbformat_minor": 5
}
