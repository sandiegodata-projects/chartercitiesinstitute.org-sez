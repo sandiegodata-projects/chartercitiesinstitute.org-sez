{
 "cells": [
  {
   "cell_type": "code",
   "execution_count": 1,
   "id": "16c582df-1233-494f-8a8d-2968fe79ed27",
   "metadata": {},
   "outputs": [
    {
     "data": {
      "text/plain": [
       "<ZipUrl file:///Volumes/SSD_Extern/metapack/ndownloader.figshare.com/articles/9828827/versions/2#&resource_format=zip>"
      ]
     },
     "execution_count": 1,
     "metadata": {},
     "output_type": "execute_result"
    }
   ],
   "source": [
    "from rowgenerators import parse_app_url\n",
    "u = 'https://ndownloader.figshare.com/articles/9828827/versions/2#resource_format=zip'\n",
    "x = parse_app_url(u)\n",
    "r = x.get_resource()\n",
    "r"
   ]
  },
  {
   "cell_type": "code",
   "execution_count": 28,
   "id": "c70261ef-eeba-44ac-be6f-90a412ccfd58",
   "metadata": {},
   "outputs": [
    {
     "name": "stdout",
     "output_type": "stream",
     "text": [
      "https://ndownloader.figshare.com/articles/9828827/versions/2#Harmonized_DN_NTL_2008_calDMSP.tif&resource_format=zip\n",
      "https://ndownloader.figshare.com/articles/9828827/versions/2#Harmonized_DN_NTL_2009_calDMSP.tif&resource_format=zip\n",
      "https://ndownloader.figshare.com/articles/9828827/versions/2#Harmonized_DN_NTL_2010_calDMSP.tif&resource_format=zip\n",
      "https://ndownloader.figshare.com/articles/9828827/versions/2#Harmonized_DN_NTL_2011_calDMSP.tif&resource_format=zip\n",
      "https://ndownloader.figshare.com/articles/9828827/versions/2#Harmonized_DN_NTL_2012_calDMSP.tif&resource_format=zip\n",
      "https://ndownloader.figshare.com/articles/9828827/versions/2#Harmonized_DN_NTL_2013_calDMSP.tif&resource_format=zip\n",
      "https://ndownloader.figshare.com/articles/9828827/versions/2#Harmonized_DN_NTL_2014_simVIIRS.tif&resource_format=zip\n",
      "https://ndownloader.figshare.com/articles/9828827/versions/2#Harmonized_DN_NTL_2015_simVIIRS.tif&resource_format=zip\n",
      "https://ndownloader.figshare.com/articles/9828827/versions/2#Harmonized_DN_NTL_2016_simVIIRS.tif&resource_format=zip\n",
      "https://ndownloader.figshare.com/articles/9828827/versions/2#Harmonized_DN_NTL_2017_simVIIRS.tif&resource_format=zip\n",
      "https://ndownloader.figshare.com/articles/9828827/versions/2#Harmonized_DN_NTL_2018_simVIIRS.tif&resource_format=zip\n",
      "https://ndownloader.figshare.com/articles/9828827/versions/2#Harmonized_DN_NTL_1992_calDMSP.tif&resource_format=zip\n",
      "https://ndownloader.figshare.com/articles/9828827/versions/2#Harmonized_DN_NTL_1993_calDMSP.tif&resource_format=zip\n",
      "https://ndownloader.figshare.com/articles/9828827/versions/2#Harmonized_DN_NTL_1994_calDMSP.tif&resource_format=zip\n",
      "https://ndownloader.figshare.com/articles/9828827/versions/2#Harmonized_DN_NTL_1995_calDMSP.tif&resource_format=zip\n",
      "https://ndownloader.figshare.com/articles/9828827/versions/2#Harmonized_DN_NTL_1996_calDMSP.tif&resource_format=zip\n",
      "https://ndownloader.figshare.com/articles/9828827/versions/2#Harmonized_DN_NTL_1997_calDMSP.tif&resource_format=zip\n",
      "https://ndownloader.figshare.com/articles/9828827/versions/2#Harmonized_DN_NTL_1998_calDMSP.tif&resource_format=zip\n",
      "https://ndownloader.figshare.com/articles/9828827/versions/2#Harmonized_DN_NTL_1999_calDMSP.tif&resource_format=zip\n",
      "https://ndownloader.figshare.com/articles/9828827/versions/2#Harmonized_DN_NTL_2000_calDMSP.tif&resource_format=zip\n",
      "https://ndownloader.figshare.com/articles/9828827/versions/2#Harmonized_DN_NTL_2001_calDMSP.tif&resource_format=zip\n",
      "https://ndownloader.figshare.com/articles/9828827/versions/2#Harmonized_DN_NTL_2002_calDMSP.tif&resource_format=zip\n",
      "https://ndownloader.figshare.com/articles/9828827/versions/2#Harmonized_DN_NTL_2003_calDMSP.tif&resource_format=zip\n",
      "https://ndownloader.figshare.com/articles/9828827/versions/2#Harmonized_DN_NTL_2004_calDMSP.tif&resource_format=zip\n",
      "https://ndownloader.figshare.com/articles/9828827/versions/2#Harmonized_DN_NTL_2005_calDMSP.tif&resource_format=zip\n",
      "https://ndownloader.figshare.com/articles/9828827/versions/2#Harmonized_DN_NTL_2006_calDMSP.tif&resource_format=zip\n",
      "https://ndownloader.figshare.com/articles/9828827/versions/2#Harmonized_DN_NTL_2007_calDMSP.tif&resource_format=zip\n",
      "https://ndownloader.figshare.com/articles/9828827/versions/2#DN_NTL_2013_simVIIRS.tif&resource_format=zip\n"
     ]
    }
   ],
   "source": [
    "from rowgenerators.appurl.archive.zip import ZipUrl\n",
    "\n",
    "def list_zip(self):\n",
    "    \"\"\"List the files in the referenced Zip file\"\"\"\n",
    "\n",
    "    from zipfile import ZipFile\n",
    "\n",
    "\n",
    "    if self.target_file:\n",
    "       \n",
    "        return list(self.set_target_segment(tl.target_segment) for tl in self.get_target().list())\n",
    "    else:\n",
    "        real_files = real_files_in_zf(ZipFile(str(self.fspath)))\n",
    "        return list(self.set_target_file(rf) for rf in real_files)\n",
    "\n",
    "def real_files_in_zf(zf):\n",
    "    \"\"\"Return a list of internal paths of real files in a zip file, based on the 'external_attr' values\"\"\"\n",
    "    from os.path import basename\n",
    "\n",
    "    for e in zf.infolist():\n",
    "\n",
    "        # Get rid of __MACOS and .DS_whatever\n",
    "        if basename(e.filename).startswith('__') or basename(e.filename).startswith('.'):\n",
    "            continue\n",
    "\n",
    "        # I really don't understand external_attr, but no one else seems to either,\n",
    "        # so we're just hacking here.\n",
    "        # e.external_attr>>31&1 works when the archive has external attrs set, and a dir heirarchy\n",
    "        # e.external_attr==0 works in cases where there are no external attrs set\n",
    "        # e.external_attr==32 is true for some single-file archives.\n",
    "        # e.external_attr==128 has been true at least once ...\n",
    "       \n",
    "        if True : #if bool(e.external_attr >> 31 & 1 or e.external_attr == 0 or e.external_attr == 32 or e.external_attr == 128):\n",
    "            yield e.filename\n",
    "\n",
    "for z in list(list_zip(r)):\n",
    "    a, b = str(z).split('#')\n",
    "    print('https://ndownloader.figshare.com/articles/9828827/versions/2#'+b)"
   ]
  },
  {
   "cell_type": "code",
   "execution_count": 3,
   "id": "9fddc1f6-9258-479d-a511-e75ea85d7c5e",
   "metadata": {},
   "outputs": [
    {
     "data": {
      "text/plain": [
       "rowgenerators.appurl.archive.zip.ZipUrl"
      ]
     },
     "execution_count": 3,
     "metadata": {},
     "output_type": "execute_result"
    }
   ],
   "source": [
    "type(r)"
   ]
  },
  {
   "cell_type": "code",
   "execution_count": 21,
   "id": "36209748-188a-47e1-9cc9-4824a38fedcc",
   "metadata": {},
   "outputs": [
    {
     "data": {
      "text/plain": [
       "['Harmonized_DN_NTL_2008_calDMSP.tif',\n",
       " 'Harmonized_DN_NTL_2009_calDMSP.tif',\n",
       " 'Harmonized_DN_NTL_2010_calDMSP.tif',\n",
       " 'Harmonized_DN_NTL_2011_calDMSP.tif',\n",
       " 'Harmonized_DN_NTL_2012_calDMSP.tif',\n",
       " 'Harmonized_DN_NTL_2013_calDMSP.tif',\n",
       " 'Harmonized_DN_NTL_2014_simVIIRS.tif',\n",
       " 'Harmonized_DN_NTL_2015_simVIIRS.tif',\n",
       " 'Harmonized_DN_NTL_2016_simVIIRS.tif',\n",
       " 'Harmonized_DN_NTL_2017_simVIIRS.tif',\n",
       " 'Harmonized_DN_NTL_2018_simVIIRS.tif',\n",
       " 'Harmonized_DN_NTL_1992_calDMSP.tif',\n",
       " 'Harmonized_DN_NTL_1993_calDMSP.tif',\n",
       " 'Harmonized_DN_NTL_1994_calDMSP.tif',\n",
       " 'Harmonized_DN_NTL_1995_calDMSP.tif',\n",
       " 'Harmonized_DN_NTL_1996_calDMSP.tif',\n",
       " 'Harmonized_DN_NTL_1997_calDMSP.tif',\n",
       " 'Harmonized_DN_NTL_1998_calDMSP.tif',\n",
       " 'Harmonized_DN_NTL_1999_calDMSP.tif',\n",
       " 'Harmonized_DN_NTL_2000_calDMSP.tif',\n",
       " 'Harmonized_DN_NTL_2001_calDMSP.tif',\n",
       " 'Harmonized_DN_NTL_2002_calDMSP.tif',\n",
       " 'Harmonized_DN_NTL_2003_calDMSP.tif',\n",
       " 'Harmonized_DN_NTL_2004_calDMSP.tif',\n",
       " 'Harmonized_DN_NTL_2005_calDMSP.tif',\n",
       " 'Harmonized_DN_NTL_2006_calDMSP.tif',\n",
       " 'Harmonized_DN_NTL_2007_calDMSP.tif',\n",
       " 'DN_NTL_2013_simVIIRS.tif']"
      ]
     },
     "execution_count": 21,
     "metadata": {},
     "output_type": "execute_result"
    }
   ],
   "source": [
    "from zipfile import ZipFile\n",
    "ZipFile(r.fspath).namelist()"
   ]
  },
  {
   "cell_type": "code",
   "execution_count": 7,
   "id": "e25929a8-9ad2-4ee4-9997-19cc79b8bda5",
   "metadata": {},
   "outputs": [
    {
     "name": "stdout",
     "output_type": "stream",
     "text": [
      "/Volumes/SSD_Extern/metapack/ndownloader.figshare.com/articles/9828827/versions/2: Zip archive data, at least v1.0 to extract\n"
     ]
    }
   ],
   "source": [
    "!file /Volumes/SSD_Extern/metapack/ndownloader.figshare.com/articles/9828827/versions/2"
   ]
  },
  {
   "cell_type": "code",
   "execution_count": 13,
   "id": "9a22378b-7aae-4f19-8835-10cdb917efb5",
   "metadata": {},
   "outputs": [
    {
     "data": {
      "text/plain": [
       "[<ZipInfo filename='Harmonized_DN_NTL_2008_calDMSP.tif' filemode='?--S-wx-w-' external_attr=0x4000 file_size=36364284>,\n",
       " <ZipInfo filename='Harmonized_DN_NTL_2009_calDMSP.tif' filemode='?--S-wx-w-' external_attr=0x4000 file_size=34842068>,\n",
       " <ZipInfo filename='Harmonized_DN_NTL_2010_calDMSP.tif' filemode='?--S-wx-w-' external_attr=0x4000 file_size=38841372>,\n",
       " <ZipInfo filename='Harmonized_DN_NTL_2011_calDMSP.tif' filemode='?--S-wx-w-' external_attr=0x4000 file_size=38809934>,\n",
       " <ZipInfo filename='Harmonized_DN_NTL_2012_calDMSP.tif' filemode='?--S-wx-w-' external_attr=0x4000 file_size=38196812>,\n",
       " <ZipInfo filename='Harmonized_DN_NTL_2013_calDMSP.tif' filemode='?--S-wx-w-' external_attr=0x4000 file_size=37969756>,\n",
       " <ZipInfo filename='Harmonized_DN_NTL_2014_simVIIRS.tif' filemode='?--S-wx-w-' external_attr=0x4000 file_size=42929043>,\n",
       " <ZipInfo filename='Harmonized_DN_NTL_2015_simVIIRS.tif' filemode='?--S-wx-w-' external_attr=0x4000 file_size=47642237>,\n",
       " <ZipInfo filename='Harmonized_DN_NTL_2016_simVIIRS.tif' filemode='?--S-wx-w-' external_attr=0x4000 file_size=45119451>,\n",
       " <ZipInfo filename='Harmonized_DN_NTL_2017_simVIIRS.tif' filemode='?--S-wx-w-' external_attr=0x4000 file_size=50047769>,\n",
       " <ZipInfo filename='Harmonized_DN_NTL_2018_simVIIRS.tif' filemode='?--S-wx-w-' external_attr=0x4000 file_size=48354597>,\n",
       " <ZipInfo filename='Harmonized_DN_NTL_1992_calDMSP.tif' filemode='?--S-wx-w-' external_attr=0x4000 file_size=30262018>,\n",
       " <ZipInfo filename='Harmonized_DN_NTL_1993_calDMSP.tif' filemode='?--S-wx-w-' external_attr=0x4000 file_size=32764832>,\n",
       " <ZipInfo filename='Harmonized_DN_NTL_1994_calDMSP.tif' filemode='?--S-wx-w-' external_attr=0x4000 file_size=32799570>,\n",
       " <ZipInfo filename='Harmonized_DN_NTL_1995_calDMSP.tif' filemode='?--S-wx-w-' external_attr=0x4000 file_size=33996196>,\n",
       " <ZipInfo filename='Harmonized_DN_NTL_1996_calDMSP.tif' filemode='?--S-wx-w-' external_attr=0x4000 file_size=34232370>,\n",
       " <ZipInfo filename='Harmonized_DN_NTL_1997_calDMSP.tif' filemode='?--S-wx-w-' external_attr=0x4000 file_size=32023140>,\n",
       " <ZipInfo filename='Harmonized_DN_NTL_1998_calDMSP.tif' filemode='?--S-wx-w-' external_attr=0x4000 file_size=33230618>,\n",
       " <ZipInfo filename='Harmonized_DN_NTL_1999_calDMSP.tif' filemode='?--S-wx-w-' external_attr=0x4000 file_size=33496284>,\n",
       " <ZipInfo filename='Harmonized_DN_NTL_2000_calDMSP.tif' filemode='?--S-wx-w-' external_attr=0x4000 file_size=34407498>,\n",
       " <ZipInfo filename='Harmonized_DN_NTL_2001_calDMSP.tif' filemode='?--S-wx-w-' external_attr=0x4000 file_size=33977614>,\n",
       " <ZipInfo filename='Harmonized_DN_NTL_2002_calDMSP.tif' filemode='?--S-wx-w-' external_attr=0x4000 file_size=33010122>,\n",
       " <ZipInfo filename='Harmonized_DN_NTL_2003_calDMSP.tif' filemode='?--S-wx-w-' external_attr=0x4000 file_size=33870652>,\n",
       " <ZipInfo filename='Harmonized_DN_NTL_2004_calDMSP.tif' filemode='?--S-wx-w-' external_attr=0x4000 file_size=34974162>,\n",
       " <ZipInfo filename='Harmonized_DN_NTL_2005_calDMSP.tif' filemode='?--S-wx-w-' external_attr=0x4000 file_size=34328410>,\n",
       " <ZipInfo filename='Harmonized_DN_NTL_2006_calDMSP.tif' filemode='?--S-wx-w-' external_attr=0x4000 file_size=34276244>,\n",
       " <ZipInfo filename='Harmonized_DN_NTL_2007_calDMSP.tif' filemode='?--S-wx-w-' external_attr=0x4000 file_size=36230298>,\n",
       " <ZipInfo filename='DN_NTL_2013_simVIIRS.tif' filemode='?--S-wx-w-' external_attr=0x4000 file_size=40862548>]"
      ]
     },
     "execution_count": 13,
     "metadata": {},
     "output_type": "execute_result"
    }
   ],
   "source": [
    "ZipFile(r.fspath).infolist()"
   ]
  },
  {
   "cell_type": "code",
   "execution_count": null,
   "id": "f3e1f598-c46b-4bca-b27d-08c39f1b92aa",
   "metadata": {},
   "outputs": [],
   "source": []
  }
 ],
 "metadata": {
  "kernelspec": {
   "display_name": "Python 3",
   "language": "python",
   "name": "python3"
  },
  "language_info": {
   "codemirror_mode": {
    "name": "ipython",
    "version": 3
   },
   "file_extension": ".py",
   "mimetype": "text/x-python",
   "name": "python",
   "nbconvert_exporter": "python",
   "pygments_lexer": "ipython3",
   "version": "3.7.7"
  }
 },
 "nbformat": 4,
 "nbformat_minor": 5
}
