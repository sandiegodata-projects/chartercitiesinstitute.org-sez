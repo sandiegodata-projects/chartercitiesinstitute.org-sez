{
 "cells": [
  {
   "cell_type": "markdown",
   "id": "b3d7a615-5c13-46fd-9d1b-688826e7e6dd",
   "metadata": {},
   "source": [
    "# Growth Rate Analysis\n",
    "\n",
    "See [this discussion of analyzing growth rates.](https://www.unescap.org/sites/default/files/Stats_Brief_Apr2015_Issue_07_Average-growth-rate.pdf)"
   ]
  },
  {
   "cell_type": "code",
   "execution_count": 2,
   "id": "fdad0ae1-4304-4d14-9082-4d5dc4c35299",
   "metadata": {},
   "outputs": [],
   "source": [
    "import seaborn as sns\n",
    "import metapack as mp\n",
    "import pandas as pd\n",
    "import numpy as np\n",
    "import matplotlib.pyplot as plt\n",
    "import rowgenerators as rg\n",
    "import fiona\n",
    "import rasterio\n",
    "import rasterio.mask\n",
    "from IPython.display import display \n",
    "from rasterio.plot import reshape_as_raster, reshape_as_image, show\n",
    "from tqdm.notebook import tqdm\n",
    "from requests import get  # to make GET request\n",
    "import boto3\n",
    "import h5py \n",
    "\n",
    "%matplotlib inline\n",
    "sns.set_context('notebook')"
   ]
  },
  {
   "cell_type": "code",
   "execution_count": 9,
   "id": "7fd5c834-b747-4de3-b8ff-4e824598000e",
   "metadata": {},
   "outputs": [
    {
     "data": {
      "text/plain": [
       "array([ 0.,  1.,  2.,  3.,  4.,  5.,  6.,  7.,  8.,  9., 10., 11., 12.,\n",
       "       13., 14., 15., 16., 17., 18., 19.])"
      ]
     },
     "execution_count": 9,
     "metadata": {},
     "output_type": "execute_result"
    }
   ],
   "source": [
    "n = 20\n",
    "r = .14 # Input growth rate\n",
    "x0 = 1 # Initial value\n",
    "years = np.linspace(0,n-1,num=n)\n",
    "years"
   ]
  },
  {
   "cell_type": "markdown",
   "id": "392aec67-5f2a-4548-9c99-7556fc95f952",
   "metadata": {},
   "source": [
    "Simple annual compounding: \n",
    "\n",
    "$$ x_t = x_0(1+r)^t \\tag{1}$$"
   ]
  },
  {
   "cell_type": "code",
   "execution_count": 21,
   "id": "545f88d8-16d7-4d8c-87a0-ffa15b447efa",
   "metadata": {},
   "outputs": [
    {
     "data": {
      "text/plain": [
       "array([ 1.        ,  1.14      ,  1.2996    ,  1.481544  ,  1.68896016,\n",
       "        1.92541458,  2.19497262,  2.50226879,  2.85258642,  3.25194852,\n",
       "        3.70722131,  4.2262323 ,  4.81790482,  5.49241149,  6.2613491 ,\n",
       "        7.13793798,  8.1372493 ,  9.2764642 , 10.57516918, 12.05569287])"
      ]
     },
     "execution_count": 21,
     "metadata": {},
     "output_type": "execute_result"
    }
   ],
   "source": [
    "x_geo = np.array([ x0*(r+1)**year for year in years])\n",
    "x_geo"
   ]
  },
  {
   "cell_type": "markdown",
   "id": "957914cb-a076-4ebd-9e1a-a0287787c646",
   "metadata": {},
   "source": [
    "Converting to a linear equation that can be estimated with OLS: \n",
    "\n",
    "$$ \\begin{gather}\n",
    "\\ln X_n  = \\alpha + \\beta n + \\epsilon  \\tag{2} \\\\\n",
    "\\beta = \\ln(1+r)\n",
    "\\end{gather}$$\n",
    "\n",
    "$\\alpha = \\ln X_0 = 0 $ so it is omitted from the code.\n"
   ]
  },
  {
   "cell_type": "code",
   "execution_count": 50,
   "id": "fe2472c0-172e-4493-9ec9-0832add1a04f",
   "metadata": {},
   "outputs": [
    {
     "data": {
      "text/plain": [
       "array([ 1.        ,  1.14      ,  1.2996    ,  1.481544  ,  1.68896016,\n",
       "        1.92541458,  2.19497262,  2.50226879,  2.85258642,  3.25194852,\n",
       "        3.70722131,  4.2262323 ,  4.81790482,  5.49241149,  6.2613491 ,\n",
       "        7.13793798,  8.1372493 ,  9.2764642 , 10.57516918, 12.05569287])"
      ]
     },
     "execution_count": 50,
     "metadata": {},
     "output_type": "execute_result"
    }
   ],
   "source": [
    "beta = np.log(r+1)\n",
    "x_exp = np.array([ np.exp(beta*year) for year in years])\n",
    "\n",
    "x_exp "
   ]
  },
  {
   "cell_type": "code",
   "execution_count": 49,
   "id": "af50a992-289c-41ac-a083-9ee6e91863fd",
   "metadata": {},
   "outputs": [
    {
     "data": {
      "image/png": "[encoded data removed]",
      "text/plain": [
       "<Figure size 432x288 with 1 Axes>"
      ]
     },
     "metadata": {
      "needs_background": "light"
     },
     "output_type": "display_data"
    }
   ],
   "source": [
    "df = pd.DataFrame({\n",
    "    'years': years,\n",
    "    'exp': x_exp,\n",
    "    'geo': x_geo\n",
    "})\n",
    "\n",
    "# Check that the total error is small\n",
    "assert np.sqrt(np.square(df['exp'] - df['geo']).sum()) < 1e-12\n",
    "\n",
    "\n",
    "df.set_index('years').plot(); # These should be co-incident\n"
   ]
  },
  {
   "cell_type": "markdown",
   "id": "cf45af93-6968-4f9d-9b9f-8cbe616fe256",
   "metadata": {},
   "source": [
    "Now we should be able to regress on equation(2) to get $\\beta = \\ln(1+r) $, so $r=e^{\\beta}-1$"
   ]
  },
  {
   "cell_type": "code",
   "execution_count": 66,
   "id": "1f50dded-b106-4bda-8d25-0846ab1ebbdb",
   "metadata": {},
   "outputs": [],
   "source": [
    "\n",
    "def exp_line_fit(x,y):\n",
    "    \n",
    "    y = np.log(y)\n",
    "    \n",
    "    fit = np.polyfit(x,y,1)\n",
    "    beta, alpha = np.exp(fit)\n",
    "    \n",
    "    return beta-1, alpha\n",
    "\n",
    "r_, b_ = exp_line_fit(df['years'], df['exp'])\n",
    "\n",
    "# Check that we are close to r\n",
    "assert round(r_, 6) == r\n",
    "\n",
    "assert round(b_, 6) == x0\n"
   ]
  },
  {
   "cell_type": "code",
   "execution_count": 63,
   "id": "7f666434-8292-4e06-8561-a0ebae565cee",
   "metadata": {},
   "outputs": [],
   "source": []
  },
  {
   "cell_type": "code",
   "execution_count": null,
   "id": "164c01d3-1fd8-4d49-9bb3-a0ac6d384649",
   "metadata": {},
   "outputs": [],
   "source": []
  }
 ],
 "metadata": {
  "kernelspec": {
   "display_name": "Python 3",
   "language": "python",
   "name": "python3"
  },
  "language_info": {
   "codemirror_mode": {
    "name": "ipython",
    "version": 3
   },
   "file_extension": ".py",
   "mimetype": "text/x-python",
   "name": "python",
   "nbconvert_exporter": "python",
   "pygments_lexer": "ipython3",
   "version": "3.7.7"
  }
 },
 "nbformat": 4,
 "nbformat_minor": 5
}
