{
 "cells": [
  {
   "cell_type": "markdown",
   "id": "e3aa10e9-6b50-456b-8339-2d0aa75f7d33",
   "metadata": {},
   "source": [
    "# Basic Nighttime Lights Raster Processing\n",
    "\n",
    "\n",
    "You can get these data packages via the ['sez' tag at the SDRDL Data Repository](https://data.sandiegodata.org/?s=sez)"
   ]
  },
  {
   "cell_type": "code",
   "execution_count": 1,
   "id": "b485c088-6b61-4e0e-9c93-a8b71421204c",
   "metadata": {},
   "outputs": [],
   "source": [
    "import seaborn as sns\n",
    "import metapack as mp\n",
    "import pandas as pd\n",
    "import numpy as np\n",
    "import matplotlib.pyplot as plt\n",
    "import rowgenerators as rg\n",
    "import fiona\n",
    "import rasterio\n",
    "import rasterio.mask\n",
    "from IPython.display import display \n",
    "from rasterio.plot import reshape_as_raster, reshape_as_image, show\n",
    "from tqdm.notebook import tqdm\n",
    "\n",
    "\n",
    "%matplotlib inline\n",
    "sns.set_context('notebook')\n"
   ]
  },
  {
   "cell_type": "code",
   "execution_count": 2,
   "id": "e22ad853-6648-42ea-8a49-4a4098dc2f0e",
   "metadata": {},
   "outputs": [
    {
     "data": {
      "text/html": [
       "<h1>Special economic zones</h1>\n",
       "<p><code>worldbank.org-sez-1.1.1</code> Last Update: 2021-07-12T20:47:42</p>\n",
       "<p><em>Information on special economic zones have been individually collected and researched in a study focusing on the governance of SEZ. This is just a subset (586) of the extant global SEZs, which have been estimated at 3500-4000.</em></p>\n",
       "<h2>Documentation Links</h2>\n",
       "<ul>\n",
       "<li><a href=\"http://library.metatab.org/worldbank.org-sez-1.1.1/index.html\">Documentation Page</a> </li>\n",
       "<li><a href=\"https://datacatalog.worldbank.org/dataset/special-economic-zones-sez\">Dataset webpage</a> </li>\n",
       "<li><a href=\"http://devseed.com/sez-viewer/#/BGD6\">Dataset viewer web application</a> </li>\n",
       "</ul>\n",
       "<h2>Contacts</h2>\n",
       "<ul>\n",
       "<li><strong>Wrangler</strong> <a href=\"mailto:eric@civicknowledge.com\">Eric Busboom</a>, <a href=\"http://civicknowledge.com\">Civic Knowledge</a></li>\n",
       "</ul>\n",
       "<h2>Resources</h2>\n",
       "<ul>\n",
       "<li><strong> <a href=\"http://library.metatab.org/worldbank.org-sez-1.1.1/data/sez.csv\">sez</a></strong>. Special Economic Zones</li>\n",
       "</ul>"
      ],
      "text/plain": [
       "# Special economic zones\n",
       "`worldbank.org-sez-1.1.1` Last Update: 2021-07-12T20:47:42\n",
       "\n",
       "_Information on special economic zones have been individually collected and researched in a study focusing on the governance of SEZ. This is just a subset (586) of the extant global SEZs, which have been estimated at 3500-4000._\n",
       "\n",
       "\n",
       "## Documentation Links\n",
       "\n",
       "* [Documentation Page](http://library.metatab.org/worldbank.org-sez-1.1.1/index.html) \n",
       "* [Dataset webpage](https://datacatalog.worldbank.org/dataset/special-economic-zones-sez) \n",
       "* [Dataset viewer web application](http://devseed.com/sez-viewer/#/BGD6) \n",
       "\n",
       " \n",
       "\n",
       "## Contacts\n",
       "\n",
       "* **Wrangler** [Eric Busboom](mailto:eric@civicknowledge.com), [Civic Knowledge](http://civicknowledge.com)\n",
       "\n",
       "## Resources\n",
       "\n",
       "* ** [sez](http://library.metatab.org/worldbank.org-sez-1.1.1/data/sez.csv)**. Special Economic Zones\n"
      ]
     },
     "execution_count": 2,
     "metadata": {},
     "output_type": "execute_result"
    }
   ],
   "source": [
    "# Open the two main data packages\n",
    "sez_p = mp.open_package('http://library.metatab.org/worldbank.org-sez-1.1.1.csv')\n",
    "ntl_p = mp.open_package('http://library.metatab.org/figshare.com-harmonized_ntl-1.1.1.csv')\n",
    "\n",
    "# Displaying the package shows metadata\n",
    "sez_p\n"
   ]
  },
  {
   "cell_type": "code",
   "execution_count": 3,
   "id": "a33a85a2-3836-4569-ba57-57e98a7df728",
   "metadata": {},
   "outputs": [
    {
     "data": {
      "text/html": [
       "<h1>Multiyear Nightime Light Intensity</h1>\n",
       "<p><code>figshare.com-harmonized_ntl-1.1.1</code> Last Update: 2021-07-12T20:47:57</p>\n",
       "<p><em>Temporally calibrated DMSP-OLS NTL time series data from 1992-2013; and converted NTL time series from the VIIRS data (2014-2018) Spatial resolution: 30 arc-seconds (~1km)</em></p>\n",
       "<p>This dataset provides reference links to each of the annual noghtime lights images from a\n",
       "collection of images built from DMSP and VIIRS data, for the years 1992 to 2018.</p>\n",
       "<h2>Documentation Links</h2>\n",
       "<ul>\n",
       "<li><a href=\"http://library.metatab.org/figshare.com-harmonized_ntl-1.1.1/index.html\">Documentation Page</a> </li>\n",
       "<li><a href=\"https://www.nature.com/articles/s41597-020-0510-y\">Research paper</a> </li>\n",
       "<li><a href=\"https://figshare.com/articles/dataset/Harmonization_of_DMSP_and_VIIRS_nighttime_light_data_from_1992-2018_at_the_global_scale/9828827/2\">Download page</a> </li>\n",
       "</ul>\n",
       "<h2>Contacts</h2>\n",
       "<ul>\n",
       "<li><strong>Wrangler</strong> <a href=\"mailto:eric@civicknowledge.com\">Eric Busboom</a>, <a href=\"http://civicknowledge.com\">Civic Knowledge</a></li>\n",
       "<li><strong>Creator</strong> Xuecao Li, Department of Geological and Atmospheric Sciences, Iowa State University</li>\n",
       "<li><strong>Creator</strong> Yuyu Zhou, Department of Geological and Atmospheric Sciences, Iowa State University</li>\n",
       "<li><strong>Creator</strong> Min Xhao, Department of Geological and Atmospheric Sciences, Iowa State University</li>\n",
       "<li><strong>Creator</strong> Xia Zhao, Department of Geological and Atmospheric Sciences, Iowa State University</li>\n",
       "</ul>\n",
       "<h2>References</h2>\n",
       "<ul><li> <strong><a href=\"https://ndownloader.figshare.com/articles/9828827/versions/2#Harmonized_DN_NTL_2008_calDMSP.tif&resource_format=zip\">ntl2008</a></strong>. Wordlwide night times lights raster, 2008</li><li> <strong><a href=\"https://ndownloader.figshare.com/articles/9828827/versions/2#Harmonized_DN_NTL_2009_calDMSP.tif&resource_format=zip\">ntl2009</a></strong>. Wordlwide night times lights raster, 2009</li><li> <strong><a href=\"https://ndownloader.figshare.com/articles/9828827/versions/2#Harmonized_DN_NTL_2010_calDMSP.tif&resource_format=zip\">ntl2010</a></strong>. Wordlwide night times lights raster, 2010</li><li> <strong><a href=\"https://ndownloader.figshare.com/articles/9828827/versions/2#Harmonized_DN_NTL_2011_calDMSP.tif&resource_format=zip\">ntl2011</a></strong>. Wordlwide night times lights raster, 2011</li><li> <strong><a href=\"https://ndownloader.figshare.com/articles/9828827/versions/2#Harmonized_DN_NTL_2012_calDMSP.tif&resource_format=zip\">ntl2012</a></strong>. Wordlwide night times lights raster, 2012</li><li> <strong><a href=\"https://ndownloader.figshare.com/articles/9828827/versions/2#Harmonized_DN_NTL_2013_calDMSP.tif&resource_format=zip\">ntl2013</a></strong>. Wordlwide night times lights raster, 2013</li><li> <strong><a href=\"https://ndownloader.figshare.com/articles/9828827/versions/2#Harmonized_DN_NTL_2014_simVIIRS.tif&resource_format=zip\">ntl2014</a></strong>. Wordlwide night times lights raster, 2014</li><li> <strong><a href=\"https://ndownloader.figshare.com/articles/9828827/versions/2#Harmonized_DN_NTL_2015_simVIIRS.tif&resource_format=zip\">ntl2015</a></strong>. Wordlwide night times lights raster, 2015</li><li> <strong><a href=\"https://ndownloader.figshare.com/articles/9828827/versions/2#Harmonized_DN_NTL_2016_simVIIRS.tif&resource_format=zip\">ntl2016</a></strong>. Wordlwide night times lights raster, 2016</li><li> <strong><a href=\"https://ndownloader.figshare.com/articles/9828827/versions/2#Harmonized_DN_NTL_2017_simVIIRS.tif&resource_format=zip\">ntl2017</a></strong>. Wordlwide night times lights raster, 2017</li><li> <strong><a href=\"https://ndownloader.figshare.com/articles/9828827/versions/2#Harmonized_DN_NTL_2018_simVIIRS.tif&resource_format=zip\">ntl2018</a></strong>. Wordlwide night times lights raster, 2018</li><li> <strong><a href=\"https://ndownloader.figshare.com/articles/9828827/versions/2#Harmonized_DN_NTL_1992_calDMSP.tif&resource_format=zip\">ntl1992</a></strong>. Wordlwide night times lights raster, 1992</li><li> <strong><a href=\"https://ndownloader.figshare.com/articles/9828827/versions/2#Harmonized_DN_NTL_1993_calDMSP.tif&resource_format=zip\">ntl1993</a></strong>. Wordlwide night times lights raster, 1993</li><li> <strong><a href=\"https://ndownloader.figshare.com/articles/9828827/versions/2#Harmonized_DN_NTL_1994_calDMSP.tif&resource_format=zip\">ntl1994</a></strong>. Wordlwide night times lights raster, 1994</li><li> <strong><a href=\"https://ndownloader.figshare.com/articles/9828827/versions/2#Harmonized_DN_NTL_1995_calDMSP.tif&resource_format=zip\">ntl1995</a></strong>. Wordlwide night times lights raster, 1995</li><li> <strong><a href=\"https://ndownloader.figshare.com/articles/9828827/versions/2#Harmonized_DN_NTL_1996_calDMSP.tif&resource_format=zip\">ntl1996</a></strong>. Wordlwide night times lights raster, 1996</li><li> <strong><a href=\"https://ndownloader.figshare.com/articles/9828827/versions/2#Harmonized_DN_NTL_1997_calDMSP.tif&resource_format=zip\">ntl1997</a></strong>. Wordlwide night times lights raster, 1997</li><li> <strong><a href=\"https://ndownloader.figshare.com/articles/9828827/versions/2#Harmonized_DN_NTL_1998_calDMSP.tif&resource_format=zip\">ntl1998</a></strong>. Wordlwide night times lights raster, 1998</li><li> <strong><a href=\"https://ndownloader.figshare.com/articles/9828827/versions/2#Harmonized_DN_NTL_1999_calDMSP.tif&resource_format=zip\">ntl1999</a></strong>. Wordlwide night times lights raster, 1999</li><li> <strong><a href=\"https://ndownloader.figshare.com/articles/9828827/versions/2#Harmonized_DN_NTL_2000_calDMSP.tif&resource_format=zip\">ntl2000</a></strong>. Wordlwide night times lights raster, 2000</li><li> <strong><a href=\"https://ndownloader.figshare.com/articles/9828827/versions/2#Harmonized_DN_NTL_2001_calDMSP.tif&resource_format=zip\">ntl2001</a></strong>. Wordlwide night times lights raster, 2001</li><li> <strong><a href=\"https://ndownloader.figshare.com/articles/9828827/versions/2#Harmonized_DN_NTL_2002_calDMSP.tif&resource_format=zip\">ntl2002</a></strong>. Wordlwide night times lights raster, 2002</li><li> <strong><a href=\"https://ndownloader.figshare.com/articles/9828827/versions/2#Harmonized_DN_NTL_2003_calDMSP.tif&resource_format=zip\">ntl2003</a></strong>. Wordlwide night times lights raster, 2003</li><li> <strong><a href=\"https://ndownloader.figshare.com/articles/9828827/versions/2#Harmonized_DN_NTL_2004_calDMSP.tif&resource_format=zip\">ntl2004</a></strong>. Wordlwide night times lights raster, 2004</li><li> <strong><a href=\"https://ndownloader.figshare.com/articles/9828827/versions/2#Harmonized_DN_NTL_2005_calDMSP.tif&resource_format=zip\">ntl2005</a></strong>. Wordlwide night times lights raster, 2005</li><li> <strong><a href=\"https://ndownloader.figshare.com/articles/9828827/versions/2#Harmonized_DN_NTL_2006_calDMSP.tif&resource_format=zip\">ntl2006</a></strong>. Wordlwide night times lights raster, 2006</li><li> <strong><a href=\"https://ndownloader.figshare.com/articles/9828827/versions/2#Harmonized_DN_NTL_2007_calDMSP.tif&resource_format=zip\">ntl2007</a></strong>. Wordlwide night times lights raster, 2007</li><li> <strong><a href=\"https://ndownloader.figshare.com/articles/9828827/versions/2#DN_NTL_2013_simVIIRS.tif&resource_format=zip\">ntl2013</a></strong>. Wordlwide night times lights raster, 2013</li><ul>"
      ],
      "text/plain": [
       "# Multiyear Nightime Light Intensity\n",
       "`figshare.com-harmonized_ntl-1.1.1` Last Update: 2021-07-12T20:47:57\n",
       "\n",
       "_Temporally calibrated DMSP-OLS NTL time series data from 1992-2013; and converted NTL time series from the VIIRS data (2014-2018) Spatial resolution: 30 arc-seconds (~1km)_\n",
       "\n",
       "\n",
       "This dataset provides reference links to each of the annual noghtime lights images from a\n",
       "collection of images built from DMSP and VIIRS data, for the years 1992 to 2018.\n",
       "## Documentation Links\n",
       "\n",
       "* [Documentation Page](http://library.metatab.org/figshare.com-harmonized_ntl-1.1.1/index.html) \n",
       "* [Research paper](https://www.nature.com/articles/s41597-020-0510-y) \n",
       "* [Download page](https://figshare.com/articles/dataset/Harmonization_of_DMSP_and_VIIRS_nighttime_light_data_from_1992-2018_at_the_global_scale/9828827/2) \n",
       "\n",
       " \n",
       "\n",
       "## Contacts\n",
       "\n",
       "* **Wrangler** [Eric Busboom](mailto:eric@civicknowledge.com), [Civic Knowledge](http://civicknowledge.com)\n",
       "* **Creator** Xuecao Li, Department of Geological and Atmospheric Sciences, Iowa State University\n",
       "* **Creator** Yuyu Zhou, Department of Geological and Atmospheric Sciences, Iowa State University\n",
       "* **Creator** Min Xhao, Department of Geological and Atmospheric Sciences, Iowa State University\n",
       "* **Creator** Xia Zhao, Department of Geological and Atmospheric Sciences, Iowa State University\n",
       "\n",
       "\n",
       "## References\n",
       "<ul><li> <strong><a href=\"https://ndownloader.figshare.com/articles/9828827/versions/2#Harmonized_DN_NTL_2008_calDMSP.tif&resource_format=zip\">ntl2008</a></strong>. Wordlwide night times lights raster, 2008</li><li> <strong><a href=\"https://ndownloader.figshare.com/articles/9828827/versions/2#Harmonized_DN_NTL_2009_calDMSP.tif&resource_format=zip\">ntl2009</a></strong>. Wordlwide night times lights raster, 2009</li><li> <strong><a href=\"https://ndownloader.figshare.com/articles/9828827/versions/2#Harmonized_DN_NTL_2010_calDMSP.tif&resource_format=zip\">ntl2010</a></strong>. Wordlwide night times lights raster, 2010</li><li> <strong><a href=\"https://ndownloader.figshare.com/articles/9828827/versions/2#Harmonized_DN_NTL_2011_calDMSP.tif&resource_format=zip\">ntl2011</a></strong>. Wordlwide night times lights raster, 2011</li><li> <strong><a href=\"https://ndownloader.figshare.com/articles/9828827/versions/2#Harmonized_DN_NTL_2012_calDMSP.tif&resource_format=zip\">ntl2012</a></strong>. Wordlwide night times lights raster, 2012</li><li> <strong><a href=\"https://ndownloader.figshare.com/articles/9828827/versions/2#Harmonized_DN_NTL_2013_calDMSP.tif&resource_format=zip\">ntl2013</a></strong>. Wordlwide night times lights raster, 2013</li><li> <strong><a href=\"https://ndownloader.figshare.com/articles/9828827/versions/2#Harmonized_DN_NTL_2014_simVIIRS.tif&resource_format=zip\">ntl2014</a></strong>. Wordlwide night times lights raster, 2014</li><li> <strong><a href=\"https://ndownloader.figshare.com/articles/9828827/versions/2#Harmonized_DN_NTL_2015_simVIIRS.tif&resource_format=zip\">ntl2015</a></strong>. Wordlwide night times lights raster, 2015</li><li> <strong><a href=\"https://ndownloader.figshare.com/articles/9828827/versions/2#Harmonized_DN_NTL_2016_simVIIRS.tif&resource_format=zip\">ntl2016</a></strong>. Wordlwide night times lights raster, 2016</li><li> <strong><a href=\"https://ndownloader.figshare.com/articles/9828827/versions/2#Harmonized_DN_NTL_2017_simVIIRS.tif&resource_format=zip\">ntl2017</a></strong>. Wordlwide night times lights raster, 2017</li><li> <strong><a href=\"https://ndownloader.figshare.com/articles/9828827/versions/2#Harmonized_DN_NTL_2018_simVIIRS.tif&resource_format=zip\">ntl2018</a></strong>. Wordlwide night times lights raster, 2018</li><li> <strong><a href=\"https://ndownloader.figshare.com/articles/9828827/versions/2#Harmonized_DN_NTL_1992_calDMSP.tif&resource_format=zip\">ntl1992</a></strong>. Wordlwide night times lights raster, 1992</li><li> <strong><a href=\"https://ndownloader.figshare.com/articles/9828827/versions/2#Harmonized_DN_NTL_1993_calDMSP.tif&resource_format=zip\">ntl1993</a></strong>. Wordlwide night times lights raster, 1993</li><li> <strong><a href=\"https://ndownloader.figshare.com/articles/9828827/versions/2#Harmonized_DN_NTL_1994_calDMSP.tif&resource_format=zip\">ntl1994</a></strong>. Wordlwide night times lights raster, 1994</li><li> <strong><a href=\"https://ndownloader.figshare.com/articles/9828827/versions/2#Harmonized_DN_NTL_1995_calDMSP.tif&resource_format=zip\">ntl1995</a></strong>. Wordlwide night times lights raster, 1995</li><li> <strong><a href=\"https://ndownloader.figshare.com/articles/9828827/versions/2#Harmonized_DN_NTL_1996_calDMSP.tif&resource_format=zip\">ntl1996</a></strong>. Wordlwide night times lights raster, 1996</li><li> <strong><a href=\"https://ndownloader.figshare.com/articles/9828827/versions/2#Harmonized_DN_NTL_1997_calDMSP.tif&resource_format=zip\">ntl1997</a></strong>. Wordlwide night times lights raster, 1997</li><li> <strong><a href=\"https://ndownloader.figshare.com/articles/9828827/versions/2#Harmonized_DN_NTL_1998_calDMSP.tif&resource_format=zip\">ntl1998</a></strong>. Wordlwide night times lights raster, 1998</li><li> <strong><a href=\"https://ndownloader.figshare.com/articles/9828827/versions/2#Harmonized_DN_NTL_1999_calDMSP.tif&resource_format=zip\">ntl1999</a></strong>. Wordlwide night times lights raster, 1999</li><li> <strong><a href=\"https://ndownloader.figshare.com/articles/9828827/versions/2#Harmonized_DN_NTL_2000_calDMSP.tif&resource_format=zip\">ntl2000</a></strong>. Wordlwide night times lights raster, 2000</li><li> <strong><a href=\"https://ndownloader.figshare.com/articles/9828827/versions/2#Harmonized_DN_NTL_2001_calDMSP.tif&resource_format=zip\">ntl2001</a></strong>. Wordlwide night times lights raster, 2001</li><li> <strong><a href=\"https://ndownloader.figshare.com/articles/9828827/versions/2#Harmonized_DN_NTL_2002_calDMSP.tif&resource_format=zip\">ntl2002</a></strong>. Wordlwide night times lights raster, 2002</li><li> <strong><a href=\"https://ndownloader.figshare.com/articles/9828827/versions/2#Harmonized_DN_NTL_2003_calDMSP.tif&resource_format=zip\">ntl2003</a></strong>. Wordlwide night times lights raster, 2003</li><li> <strong><a href=\"https://ndownloader.figshare.com/articles/9828827/versions/2#Harmonized_DN_NTL_2004_calDMSP.tif&resource_format=zip\">ntl2004</a></strong>. Wordlwide night times lights raster, 2004</li><li> <strong><a href=\"https://ndownloader.figshare.com/articles/9828827/versions/2#Harmonized_DN_NTL_2005_calDMSP.tif&resource_format=zip\">ntl2005</a></strong>. Wordlwide night times lights raster, 2005</li><li> <strong><a href=\"https://ndownloader.figshare.com/articles/9828827/versions/2#Harmonized_DN_NTL_2006_calDMSP.tif&resource_format=zip\">ntl2006</a></strong>. Wordlwide night times lights raster, 2006</li><li> <strong><a href=\"https://ndownloader.figshare.com/articles/9828827/versions/2#Harmonized_DN_NTL_2007_calDMSP.tif&resource_format=zip\">ntl2007</a></strong>. Wordlwide night times lights raster, 2007</li><li> <strong><a href=\"https://ndownloader.figshare.com/articles/9828827/versions/2#DN_NTL_2013_simVIIRS.tif&resource_format=zip\">ntl2013</a></strong>. Wordlwide night times lights raster, 2013</li><ul>\n"
      ]
     },
     "execution_count": 3,
     "metadata": {},
     "output_type": "execute_result"
    }
   ],
   "source": [
    "ntl_p"
   ]
  },
  {
   "cell_type": "code",
   "execution_count": 4,
   "id": "91ac859a-a2a8-4eba-9acd-9b539a5c49e0",
   "metadata": {},
   "outputs": [],
   "source": [
    "# open the administrative boundaries packages\n",
    "ab_p = mp.open_package('http://library.metatab.org/berkeley.edu-administrative_boundaries-1.1.1.csv')\n",
    "\n",
    "abframes = [ ab_p.resource(r.name).geoframe() for r in ab_p.resources() if r.name.endswith('admin2') ]\n",
    "\n"
   ]
  },
  {
   "cell_type": "code",
   "execution_count": 5,
   "id": "d819835a-3d97-4863-b23a-56a4bf113c02",
   "metadata": {},
   "outputs": [],
   "source": [
    "import metapack as mp\n",
    "\n",
    "# Create Dataframes\n",
    "sez = sez_p.resource('sez').geoframe()\n",
    "\n",
    "# Update the SEZ geometries to be a 10KM buffer around the point. We project to \n",
    "# EPSG:3395, World Mercator, to be able to make the buffer in meters. \n",
    "g =  sez.to_crs(3395).buffer(10_000)\n",
    "\n",
    "sez['geo_area'] = g.area\n",
    "sez['geometry'] = g.to_crs(4326)"
   ]
  },
  {
   "cell_type": "code",
   "execution_count": 6,
   "id": "5a006850-1d5b-46e7-9e9b-ffd8a9c4f96c",
   "metadata": {},
   "outputs": [
    {
     "data": {
      "text/plain": [
       "419"
      ]
     },
     "execution_count": 6,
     "metadata": {},
     "output_type": "execute_result"
    }
   ],
   "source": [
    "# The operational date col is a string, so make an int year column. \n",
    "sez['year'] = pd.to_numeric(sez.operational_date, errors='coerce')\n",
    "\n",
    "rsez = sez[(sez.year >= 1994) & ( sez.year <= 2014)]\n",
    "len(rsez)"
   ]
  },
  {
   "cell_type": "code",
   "execution_count": null,
   "id": "66e0c4b1-f189-4d6e-b4d2-905d06c35aec",
   "metadata": {},
   "outputs": [],
   "source": []
  },
  {
   "cell_type": "code",
   "execution_count": 7,
   "id": "892f6296-d674-4c95-a221-bd33c0294305",
   "metadata": {},
   "outputs": [],
   "source": [
    "# Load a year of rasters, masked and cropped to a geometry\n",
    "# See the rasterio documentation for more examples: \n",
    "# https://rasterio.readthedocs.io/en/latest/topics/masking-by-shapefile.html\n",
    "def load_ntl(pkg, year, shapes=None):\n",
    "    \n",
    "    ref = pkg.reference(f'ntl{year}').resolved_url.get_resource().get_target()\n",
    "    \n",
    "    with rasterio.open(ref.fspath) as src:\n",
    "        \n",
    "        if shapes is not None:\n",
    "            img, transform = rasterio.mask.mask(src, shapes, crop=True)\n",
    "        else:\n",
    "            img =  src.read()\n",
    "            transform = None\n",
    "            \n",
    "        meta = src.meta\n",
    "      \n",
    "        \n",
    "        return img, meta, transform\n",
    "\n"
   ]
  },
  {
   "cell_type": "code",
   "execution_count": 8,
   "id": "b763d6d8-8a33-4148-aa66-81a158a74646",
   "metadata": {},
   "outputs": [
    {
     "name": "stdout",
     "output_type": "stream",
     "text": [
      "11313\n"
     ]
    }
   ],
   "source": [
    "# Create a set of tasks parameters, year and geometry of the SEZ\n",
    "tasks = [  (year, r.id, r.geometry) for idx,r in rsez.iterrows() for year in list(range(1992, 2018+1))]\n",
    "print(len(tasks))"
   ]
  },
  {
   "cell_type": "code",
   "execution_count": 9,
   "id": "2b1e778a-90fa-4c88-b47d-0b2a6bc2afef",
   "metadata": {
    "tags": []
   },
   "outputs": [
    {
     "data": {
      "application/vnd.jupyter.widget-view+json": {
       "model_id": "3cee5cd5fd5c4e84b3f243715bd120d0",
       "version_major": 2,
       "version_minor": 0
      },
      "text/plain": [
       "  0%|          | 0/11313 [00:00<?, ?it/s]"
      ]
     },
     "metadata": {},
     "output_type": "display_data"
    },
    {
     "name": "stdout",
     "output_type": "stream",
     "text": [
      "Exceptions: 0\n"
     ]
    }
   ],
   "source": [
    "from joblib import Parallel, delayed\n",
    "\n",
    "# Run the extraction tasks in parallel\n",
    "# First, define the function we will run in parallel\n",
    "def _f(year, sez_id, geo):\n",
    "    try:\n",
    "        return (year, sez_id, load_ntl(ntl_p, year, [geo])[0])\n",
    "    except Exception as e:\n",
    "        (year, sez_id, e)\n",
    "\n",
    "# Second, run the tasks\n",
    "patches = Parallel(prefer='threads')(delayed(_f)(*t) for t in tqdm(tasks))\n",
    "\n",
    "exc = [(year, sez_id,  e) for year, sez_id,  e in patches if isinstance(e, Exception)]\n",
    "print(f\"Exceptions: {len(exc)}\")\n"
   ]
  },
  {
   "cell_type": "code",
   "execution_count": 13,
   "id": "d9e1baf9-e848-4a35-b7a6-5e63dbcf1619",
   "metadata": {},
   "outputs": [
    {
     "name": "stdout",
     "output_type": "stream",
     "text": [
      "-rw-r--r--  1 eric  staff  6040938 Jul 15 14:14 patches.pkl\n"
     ]
    }
   ],
   "source": []
  },
  {
   "cell_type": "code",
   "execution_count": 130,
   "id": "4c05d59b-7fd1-42f1-8327-37e85c972ff2",
   "metadata": {},
   "outputs": [],
   "source": [
    "import h5py \n",
    "with h5py.File('sez_circ_patches.h5', 'w') as f:\n",
    "    for year, sez_id,  e in patches:\n",
    "        k = f'circle/{year}/{sez_id}'\n",
    "        f[k] = e"
   ]
  },
  {
   "cell_type": "code",
   "execution_count": 134,
   "id": "f6392ce5-fbab-4c3d-85d0-83d22df99474",
   "metadata": {},
   "outputs": [
    {
     "data": {
      "text/plain": [
       "['circle/1992/134',\n",
       " 'circle/1992/135',\n",
       " 'circle/1992/136',\n",
       " 'circle/1992/137',\n",
       " 'circle/1992/138',\n",
       " 'circle/1992/139',\n",
       " 'circle/1992/140',\n",
       " 'circle/1992/141',\n",
       " 'circle/1992/142',\n",
       " 'circle/1992/143']"
      ]
     },
     "execution_count": 134,
     "metadata": {},
     "output_type": "execute_result"
    }
   ],
   "source": [
    "def get_hdf_keys(f):\n",
    "    \"\"\"Return all of the dataset keys in an HDF5 file\"\"\"\n",
    "    keys = []\n",
    "    f.visit(lambda key : keys.append(key) if isinstance(f[key], h5py.Dataset) else None)\n",
    "    return keys\n",
    "\n",
    "with h5py.File('sez_circ_patches.h5', 'r') as f:\n",
    "    keys = get_hdf_keys(f)\n"
   ]
  },
  {
   "cell_type": "code",
   "execution_count": 81,
   "id": "7de22456-5325-4aa5-a430-3c9855e38e0e",
   "metadata": {},
   "outputs": [],
   "source": [
    "t = [ (year, sez_id,np.nansum(rast)) for (year, sez_id,  rast) in patches ]\n",
    "t = pd.DataFrame(t, columns=['year', 'id', 'pixel_sum'])\n",
    "\n",
    "t = t.merge(rsez[['id', 'geo_area', 'year']].rename(columns={'year':'op_year'}), on='id')\n",
    "t['mean_light'] = t.pixel_sum / t.geo_area\n",
    "\n",
    "# Unit Norm\n",
    "t_ = t.mean_light-t.mean_light.min()\n",
    "t['mean_light_un'] = (t_/t_.max())\n",
    "\n",
    "t = t[t.op_year > 1996] # so we are certain to have a few years of light data before\n",
    "g = t.groupby('id')"
   ]
  },
  {
   "cell_type": "code",
   "execution_count": 124,
   "id": "ab415f16-253d-42cc-aaf3-d4c9118ad564",
   "metadata": {},
   "outputs": [
    {
     "data": {
      "image/png": "[encoded data removed]",
      "text/plain": [
       "<Figure size 720x432 with 1 Axes>"
      ]
     },
     "metadata": {
      "needs_background": "light"
     },
     "output_type": "display_data"
    }
   ],
   "source": [
    "def slope_(df):\n",
    "    from numpy.linalg import LinAlgError\n",
    "    \n",
    "    x = np.log(df['mean_light'])\n",
    "    y = df['year'] - min(df['year'])\n",
    "\n",
    "    try:\n",
    "        fit = np.polyfit(x,y,1)\n",
    "    except LinAlgError:\n",
    "        # Didn't converge\n",
    "        return np.nan\n",
    "   \n",
    "    return fit[0]\n",
    "\n",
    "def slope(df):\n",
    "    bf = df[df.year<df.op_year].sort_values('year').reset_index(drop=True)\n",
    "    af = df[df.year>df.op_year].sort_values('year').reset_index(drop=True)\n",
    "\n",
    "    \n",
    "    return pd.Series([slope_(bf), slope_(af)])\n",
    "\n",
    "slopes = g.apply(slope).rename(columns={0:'pre_slope',1:'post_slope'}).reset_index()\n",
    "slopes['slope_diff'] = (slopes.post_slope - slopes.pre_slope)/slopes.pre_slope\n",
    "plt.xscale('symlog')\n",
    "slopes.slope_diff.hist(bins = 50, figsize=(10, 6))\n",
    "plt.suptitle('Distribution of SEZ Effects', fontsize=18)\n",
    "plt.title('Ratio of growth in log of sum of light in 10Km buffer around SEZ\\nBefore and after year of operation')\n",
    "plt.tight_layout()"
   ]
  },
  {
   "cell_type": "code",
   "execution_count": 114,
   "id": "f9634138-556a-4c4a-bee4-2a0eba2a1966",
   "metadata": {},
   "outputs": [
    {
     "data": {
      "text/html": [
       "<div>\n",
       "<style scoped>\n",
       "    .dataframe tbody tr th:only-of-type {\n",
       "        vertical-align: middle;\n",
       "    }\n",
       "\n",
       "    .dataframe tbody tr th {\n",
       "        vertical-align: top;\n",
       "    }\n",
       "\n",
       "    .dataframe thead th {\n",
       "        text-align: right;\n",
       "    }\n",
       "</style>\n",
       "<table border=\"1\" class=\"dataframe\">\n",
       "  <thead>\n",
       "    <tr style=\"text-align: right;\">\n",
       "      <th></th>\n",
       "      <th>id</th>\n",
       "      <th>pre_slope</th>\n",
       "      <th>post_slope</th>\n",
       "      <th>slope_diff</th>\n",
       "    </tr>\n",
       "  </thead>\n",
       "  <tbody>\n",
       "    <tr>\n",
       "      <th>count</th>\n",
       "      <td>378.000000</td>\n",
       "      <td>351.000000</td>\n",
       "      <td>375.000000</td>\n",
       "      <td>351.000000</td>\n",
       "    </tr>\n",
       "    <tr>\n",
       "      <th>mean</th>\n",
       "      <td>363.500000</td>\n",
       "      <td>13.872162</td>\n",
       "      <td>24.854121</td>\n",
       "      <td>1.463880</td>\n",
       "    </tr>\n",
       "    <tr>\n",
       "      <th>std</th>\n",
       "      <td>109.263443</td>\n",
       "      <td>14.433679</td>\n",
       "      <td>25.690007</td>\n",
       "      <td>3.375635</td>\n",
       "    </tr>\n",
       "    <tr>\n",
       "      <th>min</th>\n",
       "      <td>175.000000</td>\n",
       "      <td>-55.778528</td>\n",
       "      <td>-64.901261</td>\n",
       "      <td>-25.415199</td>\n",
       "    </tr>\n",
       "    <tr>\n",
       "      <th>25%</th>\n",
       "      <td>269.250000</td>\n",
       "      <td>6.657407</td>\n",
       "      <td>10.545481</td>\n",
       "      <td>0.022811</td>\n",
       "    </tr>\n",
       "    <tr>\n",
       "      <th>50%</th>\n",
       "      <td>363.500000</td>\n",
       "      <td>10.561463</td>\n",
       "      <td>19.690038</td>\n",
       "      <td>0.899016</td>\n",
       "    </tr>\n",
       "    <tr>\n",
       "      <th>75%</th>\n",
       "      <td>457.750000</td>\n",
       "      <td>17.172859</td>\n",
       "      <td>34.325354</td>\n",
       "      <td>2.495697</td>\n",
       "    </tr>\n",
       "    <tr>\n",
       "      <th>max</th>\n",
       "      <td>552.000000</td>\n",
       "      <td>122.972082</td>\n",
       "      <td>152.339041</td>\n",
       "      <td>25.783962</td>\n",
       "    </tr>\n",
       "  </tbody>\n",
       "</table>\n",
       "</div>"
      ],
      "text/plain": [
       "               id   pre_slope  post_slope  slope_diff\n",
       "count  378.000000  351.000000  375.000000  351.000000\n",
       "mean   363.500000   13.872162   24.854121    1.463880\n",
       "std    109.263443   14.433679   25.690007    3.375635\n",
       "min    175.000000  -55.778528  -64.901261  -25.415199\n",
       "25%    269.250000    6.657407   10.545481    0.022811\n",
       "50%    363.500000   10.561463   19.690038    0.899016\n",
       "75%    457.750000   17.172859   34.325354    2.495697\n",
       "max    552.000000  122.972082  152.339041   25.783962"
      ]
     },
     "execution_count": 114,
     "metadata": {},
     "output_type": "execute_result"
    }
   ],
   "source": [
    "slopes.describe()"
   ]
  },
  {
   "cell_type": "code",
   "execution_count": null,
   "id": "21f70064-7e15-47f4-ad3d-d92890053a08",
   "metadata": {},
   "outputs": [],
   "source": []
  }
 ],
 "metadata": {
  "kernelspec": {
   "display_name": "Python 3",
   "language": "python",
   "name": "python3"
  },
  "language_info": {
   "codemirror_mode": {
    "name": "ipython",
    "version": 3
   },
   "file_extension": ".py",
   "mimetype": "text/x-python",
   "name": "python",
   "nbconvert_exporter": "python",
   "pygments_lexer": "ipython3",
   "version": "3.7.7"
  }
 },
 "nbformat": 4,
 "nbformat_minor": 5
}
